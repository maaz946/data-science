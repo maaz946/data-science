{
 "cells": [
  {
   "cell_type": "markdown",
   "id": "7a8c5f6c",
   "metadata": {},
   "source": [
    "# jawan pakistan tab"
   ]
  },
  {
   "cell_type": "markdown",
   "id": "1b40c391",
   "metadata": {},
   "source": [
    "## task 2\n",
    "\n",
    "1) Mentioned marks of Eng, Isl and Maths out of 100 in 3 different variable\n",
    "\n",
    "2) Mentioned Variable of Total Marks and assign 300 to it\n",
    "\n",
    "3) Calculate percentage\n",
    "\n",
    "4) Mentioned grade using conditional statement like I explained in cLass"
   ]
  },
  {
   "cell_type": "code",
   "execution_count": 4,
   "id": "dbfa90a5",
   "metadata": {},
   "outputs": [
    {
     "name": "stdout",
     "output_type": "stream",
     "text": [
      "85.0\n",
      "Your grade is A-one\n"
     ]
    }
   ],
   "source": [
    "Math=86\n",
    "Isi=77\n",
    "Eng=92\n",
    "totalMarks=300\n",
    "\n",
    "per= ((Math+Isi+Eng)/totalMarks)*100\n",
    "print(per)\n",
    "\n",
    "if per>80 and per<100:\n",
    "    print(\"Your grade is A-one\")\n",
    "elif per<80 and per>70:\n",
    "    print(\"Your grade is A\")\n",
    "elif per<70 and per<60:\n",
    "    print(\"Your grade is B\")\n",
    "elif per<60 and per<50:\n",
    "    print(\"Your grade is C\")\n",
    "else:\n",
    "    print(\"Fail or write wrong percentage\")"
   ]
  },
  {
   "cell_type": "code",
   "execution_count": 1,
   "id": "c16ce76e",
   "metadata": {},
   "outputs": [
    {
     "name": "stdout",
     "output_type": "stream",
     "text": [
      "1\n"
     ]
    }
   ],
   "source": [
    "a=0\n",
    "a=+1\n",
    "print(a)"
   ]
  },
  {
   "cell_type": "code",
   "execution_count": 7,
   "id": "aad560b6",
   "metadata": {},
   "outputs": [
    {
     "ename": "SyntaxError",
     "evalue": "invalid syntax (<ipython-input-7-a1a1a109600c>, line 2)",
     "output_type": "error",
     "traceback": [
      "\u001b[1;36m  File \u001b[1;32m\"<ipython-input-7-a1a1a109600c>\"\u001b[1;36m, line \u001b[1;32m2\u001b[0m\n\u001b[1;33m    if x=1:\u001b[0m\n\u001b[1;37m        ^\u001b[0m\n\u001b[1;31mSyntaxError\u001b[0m\u001b[1;31m:\u001b[0m invalid syntax\n"
     ]
    }
   ],
   "source": [
    "x=1 \n",
    "if x=1: \n",
    "    print(“Correct”);"
   ]
  },
  {
   "cell_type": "code",
   "execution_count": 38,
   "id": "99b4b6a2",
   "metadata": {},
   "outputs": [],
   "source": [
    "import matplotlib as plt\n",
    "import numpy as np\n",
    "from sklearn import datasets, linear_model\n",
    "from sklearn.metrics import  mean_squared_error\n"
   ]
  },
  {
   "cell_type": "code",
   "execution_count": 39,
   "id": "5fe49a57",
   "metadata": {},
   "outputs": [
    {
     "name": "stdout",
     "output_type": "stream",
     "text": [
      "dict_keys(['data', 'target', 'frame', 'DESCR', 'feature_names', 'data_filename', 'target_filename'])\n",
      "[[ 0.03807591  0.05068012  0.06169621 ... -0.00259226  0.01990842\n",
      "  -0.01764613]\n",
      " [-0.00188202 -0.04464164 -0.05147406 ... -0.03949338 -0.06832974\n",
      "  -0.09220405]\n",
      " [ 0.08529891  0.05068012  0.04445121 ... -0.00259226  0.00286377\n",
      "  -0.02593034]\n",
      " ...\n",
      " [ 0.04170844  0.05068012 -0.01590626 ... -0.01107952 -0.04687948\n",
      "   0.01549073]\n",
      " [-0.04547248 -0.04464164  0.03906215 ...  0.02655962  0.04452837\n",
      "  -0.02593034]\n",
      " [-0.04547248 -0.04464164 -0.0730303  ... -0.03949338 -0.00421986\n",
      "   0.00306441]]\n",
      ".. _diabetes_dataset:\n",
      "\n",
      "Diabetes dataset\n",
      "----------------\n",
      "\n",
      "Ten baseline variables, age, sex, body mass index, average blood\n",
      "pressure, and six blood serum measurements were obtained for each of n =\n",
      "442 diabetes patients, as well as the response of interest, a\n",
      "quantitative measure of disease progression one year after baseline.\n",
      "\n",
      "**Data Set Characteristics:**\n",
      "\n",
      "  :Number of Instances: 442\n",
      "\n",
      "  :Number of Attributes: First 10 columns are numeric predictive values\n",
      "\n",
      "  :Target: Column 11 is a quantitative measure of disease progression one year after baseline\n",
      "\n",
      "  :Attribute Information:\n",
      "      - age     age in years\n",
      "      - sex\n",
      "      - bmi     body mass index\n",
      "      - bp      average blood pressure\n",
      "      - s1      tc, T-Cells (a type of white blood cells)\n",
      "      - s2      ldl, low-density lipoproteins\n",
      "      - s3      hdl, high-density lipoproteins\n",
      "      - s4      tch, thyroid stimulating hormone\n",
      "      - s5      ltg, lamotrigine\n",
      "      - s6      glu, blood sugar level\n",
      "\n",
      "Note: Each of these 10 feature variables have been mean centered and scaled by the standard deviation times `n_samples` (i.e. the sum of squares of each column totals 1).\n",
      "\n",
      "Source URL:\n",
      "https://www4.stat.ncsu.edu/~boos/var.select/diabetes.html\n",
      "\n",
      "For more information see:\n",
      "Bradley Efron, Trevor Hastie, Iain Johnstone and Robert Tibshirani (2004) \"Least Angle Regression,\" Annals of Statistics (with discussion), 407-499.\n",
      "(https://web.stanford.edu/~hastie/Papers/LARS/LeastAngle_2002.pdf)\n"
     ]
    }
   ],
   "source": [
    "diabetes= datasets.load_diabetes()\n",
    "print(diabetes.keys())\n",
    "#dict_keys(['data', 'target', 'frame', 'DESCR', 'feature_names', 'data_filename', 'target_filename'])\n",
    "print(diabetes.data)\n",
    "\n",
    "print(diabetes.DESCR)"
   ]
  },
  {
   "cell_type": "code",
   "execution_count": 40,
   "id": "524bfff1",
   "metadata": {},
   "outputs": [
    {
     "ename": "TypeError",
     "evalue": "memoryview: invalid slice key",
     "output_type": "error",
     "traceback": [
      "\u001b[1;31m---------------------------------------------------------------------------\u001b[0m",
      "\u001b[1;31mTypeError\u001b[0m                                 Traceback (most recent call last)",
      "\u001b[1;32m<ipython-input-40-29ad3301f501>\u001b[0m in \u001b[0;36m<module>\u001b[1;34m\u001b[0m\n\u001b[1;32m----> 1\u001b[1;33m \u001b[0mprint\u001b[0m\u001b[1;33m(\u001b[0m\u001b[0mdiabetes_X\u001b[0m\u001b[1;33m.\u001b[0m\u001b[0mdata\u001b[0m\u001b[1;33m[\u001b[0m\u001b[1;33m:\u001b[0m\u001b[1;33m,\u001b[0m \u001b[0mnp\u001b[0m\u001b[1;33m.\u001b[0m\u001b[0mnewaxis\u001b[0m\u001b[1;33m,\u001b[0m\u001b[1;36m2\u001b[0m\u001b[1;33m]\u001b[0m\u001b[1;33m)\u001b[0m\u001b[1;33m\u001b[0m\u001b[1;33m\u001b[0m\u001b[0m\n\u001b[0m",
      "\u001b[1;31mTypeError\u001b[0m: memoryview: invalid slice key"
     ]
    }
   ],
   "source": [
    "print(diabetes_X.data[:, np.newaxis,2])"
   ]
  },
  {
   "cell_type": "code",
   "execution_count": 41,
   "id": "6299806a",
   "metadata": {},
   "outputs": [
    {
     "name": "stdout",
     "output_type": "stream",
     "text": [
      "mean square error is \n"
     ]
    },
    {
     "ename": "AttributeError",
     "evalue": "module 'matplotlib' has no attribute 'scatter'",
     "output_type": "error",
     "traceback": [
      "\u001b[1;31m---------------------------------------------------------------------------\u001b[0m",
      "\u001b[1;31mAttributeError\u001b[0m                            Traceback (most recent call last)",
      "\u001b[1;32m<ipython-input-41-43df9d7e5e1f>\u001b[0m in \u001b[0;36m<module>\u001b[1;34m\u001b[0m\n\u001b[0;32m     14\u001b[0m \u001b[0mdiabetes_y_predection\u001b[0m \u001b[1;33m=\u001b[0m \u001b[0mmodel\u001b[0m\u001b[1;33m.\u001b[0m\u001b[0mpredict\u001b[0m\u001b[1;33m(\u001b[0m\u001b[0mdiabetes_X_test\u001b[0m\u001b[1;33m)\u001b[0m\u001b[1;33m\u001b[0m\u001b[1;33m\u001b[0m\u001b[0m\n\u001b[0;32m     15\u001b[0m \u001b[0mprint\u001b[0m\u001b[1;33m(\u001b[0m\u001b[1;34m\"mean square error is \"\u001b[0m\u001b[1;33m)\u001b[0m\u001b[1;33m\u001b[0m\u001b[1;33m\u001b[0m\u001b[0m\n\u001b[1;32m---> 16\u001b[1;33m \u001b[0mplt\u001b[0m\u001b[1;33m.\u001b[0m\u001b[0mscatter\u001b[0m\u001b[1;33m(\u001b[0m\u001b[0mdiabetes_X_test\u001b[0m\u001b[1;33m,\u001b[0m \u001b[0mdiabetes_y_test\u001b[0m\u001b[1;33m)\u001b[0m\u001b[1;33m\u001b[0m\u001b[1;33m\u001b[0m\u001b[0m\n\u001b[0m",
      "\u001b[1;31mAttributeError\u001b[0m: module 'matplotlib' has no attribute 'scatter'"
     ]
    }
   ],
   "source": [
    "diabetes = datasets.load_diabetes()\n",
    "\n",
    "diabetes_X = diabetes.data\n",
    "\n",
    "diabetes_X_train = diabetes_X[:-30]\n",
    "diabetes_X_test = diabetes_X[-30:]\n",
    "\n",
    "diabetes_y_train = diabetes.target[:-30]\n",
    "diabetes_y_test = diabetes.target[-30:]\n",
    "\n",
    "model = linear_model.LinearRegression()\n",
    "\n",
    "model.fit(diabetes_X_train, diabetes_y_train)\n",
    "diabetes_y_predection = model.predict(diabetes_X_test)\n",
    "print(\"mean square error is \")\n",
    "plt.scatter(diabetes_X_test, diabetes_y_test)"
   ]
  },
  {
   "cell_type": "code",
   "execution_count": 107,
   "id": "6b0e471d",
   "metadata": {},
   "outputs": [
    {
     "name": "stdout",
     "output_type": "stream",
     "text": [
      "290\n",
      "29\n",
      "Mean squared error is:  1889.1827076274835\n",
      "Weights:  [  -1.16924976 -237.18461486  518.30606657  309.04865826 -763.14121622\n",
      "  458.90999325   80.62441437  174.32183366  721.49712065   79.19307944]\n",
      "Intercept:  153.05827988224112\n"
     ]
    },
    {
     "data": {
      "image/png": "[encoded data removed]",
      "text/plain": [
       "<Figure size 432x288 with 1 Axes>"
      ]
     },
     "metadata": {
      "needs_background": "light"
     },
     "output_type": "display_data"
    }
   ],
   "source": [
    "import matplotlib.pyplot as plt\n",
    "import numpy as np\n",
    "from sklearn import datasets, linear_model\n",
    "from sklearn.metrics import  mean_squared_error\n",
    "\n",
    "diabetes = datasets.load_diabetes()\n",
    "\n",
    "diabetes_X = diabetes.data\n",
    "\n",
    "diabetes_X_train = diabetes_X[:-30]\n",
    "diabetes_X_test = diabetes_X[-30:-1]\n",
    "print(np.size(diabetes_X_test))\n",
    "print(np.size(diabetes_y_test))\n",
    "diabetes_y_train = diabetes.target[:-30]\n",
    "diabetes_y_test = diabetes.target[-30:-1]\n",
    "\n",
    "model = linear_model.LinearRegression()\n",
    "\n",
    "model.fit(diabetes_X_train, diabetes_y_train)\n",
    "\n",
    "diabetes_y_predicted = model.predict(diabetes_X_test)\n",
    "\n",
    "print(\"Mean squared error is: \", mean_squared_error(diabetes_y_test, diabetes_y_predicted))\n",
    "\n",
    "print(\"Weights: \", model.coef_)\n",
    "print(\"Intercept: \", model.intercept_)\n",
    "\n",
    "#plt.scatter(diabetes_X_test, diabetes_y_test)\n",
    "plt.plot(diabetes_X_test, diabetes_y_predicted)\n",
    "plt.show()\n",
    "\n",
    "# Mean squared error is:  3035.0601152912695\n",
    "# Weights:  [941.43097333]\n",
    "# Intercept:  153.39713623331698\n"
   ]
  },
  {
   "cell_type": "code",
   "execution_count": 51,
   "id": "5db9fa70",
   "metadata": {},
   "outputs": [
    {
     "name": "stdout",
     "output_type": "stream",
     "text": [
      "[[1 2 3]\n",
      " [4 5 6]\n",
      " [7 8 9]]\n"
     ]
    }
   ],
   "source": [
    "arr=np.array([[1,2,3],[4,5,6],[7,8,9]])\n",
    "print(arr)"
   ]
  },
  {
   "cell_type": "code",
   "execution_count": 52,
   "id": "853e093c",
   "metadata": {},
   "outputs": [
    {
     "data": {
      "text/plain": [
       "array([[1, 4, 7],\n",
       "       [2, 5, 8],\n",
       "       [3, 6, 9]])"
      ]
     },
     "execution_count": 52,
     "metadata": {},
     "output_type": "execute_result"
    }
   ],
   "source": [
    "#for transpose\n",
    "arr.T"
   ]
  },
  {
   "cell_type": "code",
   "execution_count": 53,
   "id": "2380393a",
   "metadata": {},
   "outputs": [
    {
     "data": {
      "text/plain": [
       "<numpy.flatiter at 0x23a54083c20>"
      ]
     },
     "execution_count": 53,
     "metadata": {},
     "output_type": "execute_result"
    }
   ],
   "source": [
    "arr.flat"
   ]
  },
  {
   "cell_type": "code",
   "execution_count": 102,
   "id": "665a2be3",
   "metadata": {},
   "outputs": [
    {
     "name": "stdout",
     "output_type": "stream",
     "text": [
      "9\n"
     ]
    }
   ],
   "source": [
    "print(np.size(arr))\n"
   ]
  },
  {
   "cell_type": "code",
   "execution_count": 54,
   "id": "824f642e",
   "metadata": {},
   "outputs": [
    {
     "name": "stdout",
     "output_type": "stream",
     "text": [
      "1\n",
      "2\n",
      "3\n",
      "4\n",
      "5\n",
      "6\n",
      "7\n",
      "8\n",
      "9\n"
     ]
    }
   ],
   "source": [
    "for item in arr.flat:\n",
    "    print(item)"
   ]
  },
  {
   "cell_type": "code",
   "execution_count": 55,
   "id": "749c4529",
   "metadata": {},
   "outputs": [
    {
     "data": {
      "text/plain": [
       "2"
      ]
     },
     "execution_count": 55,
     "metadata": {},
     "output_type": "execute_result"
    }
   ],
   "source": [
    "arr.ndim\n"
   ]
  },
  {
   "cell_type": "code",
   "execution_count": 56,
   "id": "495b9698",
   "metadata": {},
   "outputs": [
    {
     "data": {
      "text/plain": [
       "9"
      ]
     },
     "execution_count": 56,
     "metadata": {},
     "output_type": "execute_result"
    }
   ],
   "source": [
    "arr.size"
   ]
  },
  {
   "cell_type": "code",
   "execution_count": 57,
   "id": "4d7306e3",
   "metadata": {},
   "outputs": [
    {
     "data": {
      "text/plain": [
       "36"
      ]
     },
     "execution_count": 57,
     "metadata": {},
     "output_type": "execute_result"
    }
   ],
   "source": [
    "arr.nbytes"
   ]
  },
  {
   "cell_type": "code",
   "execution_count": 58,
   "id": "6f23d573",
   "metadata": {},
   "outputs": [
    {
     "data": {
      "text/plain": [
       "3"
      ]
     },
     "execution_count": 58,
     "metadata": {},
     "output_type": "execute_result"
    }
   ],
   "source": [
    "#for finding index of largest no\n",
    "one=np.array([13,23,7,478,7])\n",
    "one.argmax()\n"
   ]
  },
  {
   "cell_type": "code",
   "execution_count": 59,
   "id": "d7992ca5",
   "metadata": {},
   "outputs": [
    {
     "data": {
      "text/plain": [
       "2"
      ]
     },
     "execution_count": 59,
     "metadata": {},
     "output_type": "execute_result"
    }
   ],
   "source": [
    "#for finding index of minimum no\n",
    "one=np.array([13,23,7,478,7])\n",
    "one.argmin()"
   ]
  },
  {
   "cell_type": "code",
   "execution_count": 65,
   "id": "06d957cc",
   "metadata": {},
   "outputs": [
    {
     "name": "stdout",
     "output_type": "stream",
     "text": [
      "[[1 2 3]\n",
      " [4 5 6]\n",
      " [7 8 9]]\n"
     ]
    },
    {
     "data": {
      "text/plain": [
       "8"
      ]
     },
     "execution_count": 65,
     "metadata": {},
     "output_type": "execute_result"
    }
   ],
   "source": [
    "print(arr)\n",
    "arr.argmax()\n",
    "# 8 is the axix"
   ]
  },
  {
   "cell_type": "code",
   "execution_count": 66,
   "id": "ff6bfff1",
   "metadata": {},
   "outputs": [
    {
     "data": {
      "text/plain": [
       "0"
      ]
     },
     "execution_count": 66,
     "metadata": {},
     "output_type": "execute_result"
    }
   ],
   "source": [
    "arr.argmin()"
   ]
  },
  {
   "cell_type": "code",
   "execution_count": 71,
   "id": "13a5c53b",
   "metadata": {},
   "outputs": [
    {
     "name": "stdout",
     "output_type": "stream",
     "text": [
      "[0 0 0]\n",
      "[0 0 0]\n",
      "[2 2 2]\n",
      "[2 2 2]\n"
     ]
    }
   ],
   "source": [
    "# axis 0 for columns\n",
    "# axis 1 for rows\n",
    "print(arr.argmin(axis=0))\n",
    "print(arr.argmin(axis=1))\n",
    "print(arr.argmax(axis=0))\n",
    "print(arr.argmax(axis=1))\n"
   ]
  },
  {
   "cell_type": "code",
   "execution_count": 74,
   "id": "33db9325",
   "metadata": {},
   "outputs": [
    {
     "name": "stdout",
     "output_type": "stream",
     "text": [
      "[0 1 2 3 4]\n"
     ]
    }
   ],
   "source": [
    "print(one.argsort())"
   ]
  },
  {
   "cell_type": "code",
   "execution_count": 76,
   "id": "925cdd41",
   "metadata": {},
   "outputs": [
    {
     "data": {
      "text/plain": [
       "array([  7,   7,  13,  23, 478])"
      ]
     },
     "execution_count": 76,
     "metadata": {},
     "output_type": "execute_result"
    }
   ],
   "source": [
    "np.sort(one)"
   ]
  },
  {
   "cell_type": "code",
   "execution_count": 77,
   "id": "b1c9a458",
   "metadata": {},
   "outputs": [
    {
     "data": {
      "text/plain": [
       "array([[1.        , 1.41421356, 1.73205081],\n",
       "       [2.        , 2.23606798, 2.44948974],\n",
       "       [2.64575131, 2.82842712, 3.        ]])"
      ]
     },
     "execution_count": 77,
     "metadata": {},
     "output_type": "execute_result"
    }
   ],
   "source": [
    "# for square root\n",
    "np.sqrt(arr)"
   ]
  },
  {
   "cell_type": "code",
   "execution_count": 78,
   "id": "bc8a4bd0",
   "metadata": {},
   "outputs": [
    {
     "data": {
      "text/plain": [
       "(array([1, 2, 2, 2], dtype=int64), array([2, 0, 1, 2], dtype=int64))"
      ]
     },
     "execution_count": 78,
     "metadata": {},
     "output_type": "execute_result"
    }
   ],
   "source": [
    "np.where(arr>5)"
   ]
  },
  {
   "cell_type": "code",
   "execution_count": 83,
   "id": "724f1fda",
   "metadata": {},
   "outputs": [
    {
     "data": {
      "text/plain": [
       "array([1, 2, 2, 2])"
      ]
     },
     "execution_count": 83,
     "metadata": {},
     "output_type": "execute_result"
    }
   ],
   "source": [
    "np.array([1, 2, 2, 2])\n",
    "      "
   ]
  },
  {
   "cell_type": "code",
   "execution_count": 80,
   "id": "0f7c17f2",
   "metadata": {},
   "outputs": [
    {
     "data": {
      "text/plain": [
       "9"
      ]
     },
     "execution_count": 80,
     "metadata": {},
     "output_type": "execute_result"
    }
   ],
   "source": [
    "np.count_nonzero(arr)"
   ]
  },
  {
   "cell_type": "code",
   "execution_count": 81,
   "id": "234e9588",
   "metadata": {},
   "outputs": [
    {
     "data": {
      "text/plain": [
       "(array([0, 0, 0, 1, 1, 1, 2, 2, 2], dtype=int64),\n",
       " array([0, 1, 2, 0, 1, 2, 0, 1, 2], dtype=int64))"
      ]
     },
     "execution_count": 81,
     "metadata": {},
     "output_type": "execute_result"
    }
   ],
   "source": [
    "np.nonzero(arr)"
   ]
  },
  {
   "cell_type": "code",
   "execution_count": null,
   "id": "e30c74fa",
   "metadata": {},
   "outputs": [],
   "source": [
    "print(\"yy\")"
   ]
  },
  {
   "cell_type": "code",
   "execution_count": null,
   "id": "4c5f80ba",
   "metadata": {},
   "outputs": [],
   "source": [
    "NoOfPrime=50\n",
    "promeperLine=10\n",
    "count=0\n",
    "number=2\n",
    "print()\n",
    "while count<NoOfPrime:\n",
    "    diviser=2\n",
    "    isPrime=True\n",
    "    while diviser<=number:\n",
    "        if number%diviser==0:\n",
    "            isPrime=False\n",
    "            break\n",
    "        diviser+=1\n",
    "    \n",
    "    \n",
    "    if isPrime:\n",
    "        count+=1\n",
    "        print(\"p\",number)\n",
    "    number+=1"
   ]
  },
  {
   "cell_type": "code",
   "execution_count": 1,
   "id": "4c4a0d46",
   "metadata": {},
   "outputs": [
    {
     "name": "stdout",
     "output_type": "stream",
     "text": [
      "jjjj\n"
     ]
    }
   ],
   "source": [
    "print(\"jjjj\")"
   ]
  },
  {
   "cell_type": "code",
   "execution_count": null,
   "id": "0dbeb63e",
   "metadata": {},
   "outputs": [],
   "source": [
    "\n",
    "ppp"
   ]
  },
  {
   "cell_type": "code",
   "execution_count": 9,
   "id": "cf9282e0",
   "metadata": {},
   "outputs": [
    {
     "name": "stdout",
     "output_type": "stream",
     "text": [
      "a\n",
      "1b2b3b4ba\n",
      "1b2b3b4ba\n",
      "1b2b3b4ba\n",
      "1b2b3b4ba\n",
      "1b2b3b4b"
     ]
    }
   ],
   "source": [
    "for i in range(0,5):\n",
    "    print(\"a\")\n",
    "    for j in range(1,5):\n",
    "        print(j,end=\"\")\n",
    "        print(\"b\",end=\"\")\n",
    "        "
   ]
  },
  {
   "cell_type": "code",
   "execution_count": 16,
   "id": "cfa1383a",
   "metadata": {},
   "outputs": [
    {
     "name": "stdout",
     "output_type": "stream",
     "text": [
      "*\r\n",
      "**\r\n",
      "***\r\n",
      "****\r\n",
      "*****\r\n"
     ]
    }
   ],
   "source": [
    "for i in range(0,5):\n",
    "    for j in range(0,i+1):\n",
    "        print(\"*\",end=\"\")\n",
    "    print(\"\\r\")"
   ]
  },
  {
   "cell_type": "code",
   "execution_count": 20,
   "id": "13ddf2d2",
   "metadata": {},
   "outputs": [
    {
     "name": "stdout",
     "output_type": "stream",
     "text": [
      "*\n",
      "*\n",
      "**\n",
      "*\n",
      "**\n",
      "***\n",
      "*\n",
      "**\n",
      "***\n",
      "****\n",
      "*\n",
      "**\n",
      "***\n",
      "****\n",
      "*****\n"
     ]
    }
   ],
   "source": [
    "myList = []\n",
    "for i in range(1,5+1):\n",
    "    myList.append(\"*\"*i)\n",
    "    print(\"\\n\".join(myList))"
   ]
  },
  {
   "cell_type": "code",
   "execution_count": 34,
   "id": "18158631",
   "metadata": {},
   "outputs": [
    {
     "name": "stdout",
     "output_type": "stream",
     "text": [
      "    * \r\n",
      "   * * \r\n",
      "  * * * \r\n",
      " * * * * \r\n",
      "* * * * * \r\n"
     ]
    }
   ],
   "source": [
    "# Python 3.x code to demonstrate star pattern\n",
    "\n",
    "# Function to demonstrate printing pattern\n",
    "def pypart2(n):\n",
    "\t\n",
    "\t# number of spaces\n",
    "\tk = n - 1\n",
    "\n",
    "\t# outer loop to handle number of rows\n",
    "\tfor i in range(0, n):\n",
    "\t\n",
    "\t\t# inner loop to handle number spaces\n",
    "\t\t# values changing acc. to requirement\n",
    "\t\tfor j in range(0, k):\n",
    "\t\t\tprint(end=\" \")\n",
    "\t\n",
    "\t\t# decrementing k after each loop\n",
    "\t\tk = k - 1\n",
    "\t\n",
    "\t\t# inner loop to handle number of columns\n",
    "\t\t# values changing acc. to outer loop\n",
    "\t\tfor j in range(0, i+1):\n",
    "\t\t\n",
    "\t\t\t# printing stars\n",
    "\t\t\tprint(\"* \", end=\"\")\n",
    "\t\n",
    "\t\t# ending line after each row\n",
    "\t\tprint(\"\\r\")\n",
    "\n",
    "# Driver Code\n",
    "n = 5\n",
    "pypart2(n)\n",
    "\n",
    "\n",
    "# reverse triangle use 2k-2   k-2"
   ]
  },
  {
   "cell_type": "code",
   "execution_count": 44,
   "id": "6402933f",
   "metadata": {},
   "outputs": [
    {
     "ename": "IndentationError",
     "evalue": "unindent does not match any outer indentation level (<tokenize>, line 28)",
     "output_type": "error",
     "traceback": [
      "\u001b[1;36m  File \u001b[1;32m\"<tokenize>\"\u001b[1;36m, line \u001b[1;32m28\u001b[0m\n\u001b[1;33m    num=num+1\u001b[0m\n\u001b[1;37m    ^\u001b[0m\n\u001b[1;31mIndentationError\u001b[0m\u001b[1;31m:\u001b[0m unindent does not match any outer indentation level\n"
     ]
    }
   ],
   "source": [
    "# Python 3.x code to demonstrate star pattern\n",
    "num=1\n",
    "# Function to demonstrate printing pattern\n",
    "def pypart2(n):\n",
    "\t\n",
    "\t# number of spaces\n",
    "\tk = n - 1\n",
    "\n",
    "\t# outer loop to handle number of rows\n",
    "\tfor i in range(0, n):\n",
    "        num = 1\n",
    "\t\n",
    "\t\t# inner loop to handle number spaces\n",
    "\t\t# values changing acc. to requirement\n",
    "\t\tfor j in range(0, k):\n",
    "\t\t\tprint(end=\" \")\n",
    "\t\n",
    "\t\t# decrementing k after each loop\n",
    "\t\tk = k - 1\n",
    "        num = 1\n",
    "\t\n",
    "\t\t# inner loop to handle number of columns\n",
    "\t\t# values changing acc. to outer loop\n",
    "\t\tfor j in range(0, i+1):\n",
    "\n",
    "\t\t\t# printing stars\n",
    "\t\t\tprint(num, end=\"\")\n",
    "            num=num+1\n",
    "\t\t# ending line after each row\n",
    "\t\tprint(\"\\r\")\n",
    "\n",
    "# Driver Code\n",
    "n = 5\n",
    "pypart2(n)\n",
    "\n",
    "\n",
    "# reverse triangle use 2k-2   k-2"
   ]
  },
  {
   "cell_type": "code",
   "execution_count": 1,
   "id": "f1f09578",
   "metadata": {},
   "outputs": [
    {
     "ename": "SyntaxError",
     "evalue": "invalid syntax (<ipython-input-1-8842782126fe>, line 1)",
     "output_type": "error",
     "traceback": [
      "\u001b[1;36m  File \u001b[1;32m\"<ipython-input-1-8842782126fe>\"\u001b[1;36m, line \u001b[1;32m1\u001b[0m\n\u001b[1;33m    for i in rane(len(number))\u001b[0m\n\u001b[1;37m                              ^\u001b[0m\n\u001b[1;31mSyntaxError\u001b[0m\u001b[1;31m:\u001b[0m invalid syntax\n"
     ]
    }
   ],
   "source": [
    "for i in range(len(number)-1):\n",
    "    index=i\n",
    "    for j in range(i+1,len(number)):\n",
    "        if(number[index]>number[j]):\n",
    "            index=j\n",
    "    if(number[i]!=number[index]):\n",
    "         number[index],number[i]=number[i],number[index]"
   ]
  },
  {
   "cell_type": "code",
   "execution_count": null,
   "id": "8b5aac5a",
   "metadata": {},
   "outputs": [],
   "source": [
    "for i in range(len(number)-1):\n",
    "    for j in range(len(number)-1-i):\n",
    "        if number[j]>number[j+1]:\n",
    "            number[j],number[j+1]=number[j+1],number[j]\n",
    "            \n",
    "print(number)"
   ]
  },
  {
   "cell_type": "code",
   "execution_count": 2,
   "id": "ee4b8ed4",
   "metadata": {},
   "outputs": [
    {
     "ename": "NameError",
     "evalue": "name 'number' is not defined",
     "output_type": "error",
     "traceback": [
      "\u001b[1;31m---------------------------------------------------------------------------\u001b[0m",
      "\u001b[1;31mNameError\u001b[0m                                 Traceback (most recent call last)",
      "\u001b[1;32m<ipython-input-2-241872d1c90c>\u001b[0m in \u001b[0;36m<module>\u001b[1;34m\u001b[0m\n\u001b[1;32m----> 1\u001b[1;33m \u001b[1;32mfor\u001b[0m \u001b[0mi\u001b[0m \u001b[1;32min\u001b[0m \u001b[0mrange\u001b[0m\u001b[1;33m(\u001b[0m\u001b[0mlen\u001b[0m\u001b[1;33m(\u001b[0m\u001b[0mnumber\u001b[0m\u001b[1;33m)\u001b[0m\u001b[1;33m-\u001b[0m\u001b[1;36m1\u001b[0m\u001b[1;33m)\u001b[0m\u001b[1;33m:\u001b[0m\u001b[1;33m\u001b[0m\u001b[1;33m\u001b[0m\u001b[0m\n\u001b[0m\u001b[0;32m      2\u001b[0m     \u001b[0mindex\u001b[0m\u001b[1;33m=\u001b[0m\u001b[0mi\u001b[0m\u001b[1;33m\u001b[0m\u001b[1;33m\u001b[0m\u001b[0m\n\u001b[0;32m      3\u001b[0m     \u001b[1;32mfor\u001b[0m \u001b[0mj\u001b[0m \u001b[1;32min\u001b[0m \u001b[0mrange\u001b[0m\u001b[1;33m(\u001b[0m\u001b[0mi\u001b[0m\u001b[1;33m+\u001b[0m\u001b[1;36m1\u001b[0m\u001b[1;33m,\u001b[0m\u001b[0mlen\u001b[0m\u001b[1;33m(\u001b[0m\u001b[0mnumber\u001b[0m\u001b[1;33m)\u001b[0m\u001b[1;33m)\u001b[0m\u001b[1;33m:\u001b[0m\u001b[1;33m\u001b[0m\u001b[1;33m\u001b[0m\u001b[0m\n\u001b[0;32m      4\u001b[0m         \u001b[1;32mif\u001b[0m \u001b[0mnumber\u001b[0m\u001b[1;33m[\u001b[0m\u001b[0mindex\u001b[0m\u001b[1;33m]\u001b[0m\u001b[1;33m>\u001b[0m\u001b[0mnumber\u001b[0m\u001b[1;33m[\u001b[0m\u001b[0mj\u001b[0m\u001b[1;33m]\u001b[0m\u001b[1;33m:\u001b[0m\u001b[1;33m\u001b[0m\u001b[1;33m\u001b[0m\u001b[0m\n\u001b[0;32m      5\u001b[0m             \u001b[0mindex\u001b[0m\u001b[1;33m=\u001b[0m\u001b[0mj\u001b[0m\u001b[1;33m\u001b[0m\u001b[1;33m\u001b[0m\u001b[0m\n",
      "\u001b[1;31mNameError\u001b[0m: name 'number' is not defined"
     ]
    }
   ],
   "source": [
    "for i in range(len(number)-1):\n",
    "    index=i\n",
    "    for j in range(i+1,len(number)):\n",
    "        if number[index,0]>number[j,0]:\n",
    "            index=j\n",
    "    if number[i]!=number[index]:\n",
    "            number[i],number[index]=number[index],number[i]\n",
    "            "
   ]
  },
  {
   "cell_type": "code",
   "execution_count": null,
   "id": "39dfd236",
   "metadata": {},
   "outputs": [],
   "source": [
    "for i in range(1,len(number)):\n",
    "    temp=number[i]\n",
    "    index=i\n",
    "    while index=!0 and number[index-1]>temp:\n",
    "        numbeer[index]=number[index-1]\n",
    "        index-=1\n",
    "    number[index]=temp"
   ]
  },
  {
   "cell_type": "code",
   "execution_count": null,
   "id": "baac5ef0",
   "metadata": {},
   "outputs": [],
   "source": [
    "first=0\n",
    "last=len(number)-1\n",
    "num=input(\"hh\")\n",
    "while last>=first:\n",
    "    mid=int(first+last/2)\n",
    "    if mid==num:\n",
    "        break\n",
    "    elif"
   ]
  },
  {
   "cell_type": "code",
   "execution_count": 68,
   "id": "90eda977",
   "metadata": {},
   "outputs": [],
   "source": [
    "from tkinter import *\n",
    "from tkinter import ttk\n",
    "from tkinter import messagebox"
   ]
  },
  {
   "cell_type": "code",
   "execution_count": 38,
   "id": "584c34e6",
   "metadata": {},
   "outputs": [],
   "source": [
    "tp=Tk()\n",
    "\n",
    "tp.title(\"maazi\")\n",
    "tp.iconbitmap(\"C:/Users/Maazullah Khan Warsi/Downloads/icon.ico\")\n",
    "tp.geometry('600x300')\n",
    "tp.maxsize(width=600,height=300)\n",
    "tp.minsize(width=400,height=200)\n",
    "\n",
    "\n",
    "def func():\n",
    "    x=var.get()\n",
    "    print(x)\n",
    "    lbl.config(text=x,bg='green')\n",
    "\n",
    "label=Label(tp,text=\"user name\",bg='red',fg='white')#,width=10,height=10)\n",
    "label.place(x=10,y=10)\n",
    "#label.grid(row=0,column=1)\n",
    "#label.pack()\n",
    "\n",
    "lbl=Label(tp,text=\"nothing\",bg='red',fg='white')#,width=10,height=10)\n",
    "lbl.place(x=8,y=110)\n",
    "\n",
    "var=StringVar()\n",
    "ent=Entry(tp,bg='blue',fg='black',bd=5,textvariable=var,width=20)\n",
    "ent.place(x=85,y=10)\n",
    "\n",
    "\n",
    "btn=Button(tp,text='submit',bg='green',command=func)\n",
    "btn.place(x=80,y=80)\n",
    "\n",
    "com=ttk.Combobox(tp,width=27)\n",
    "com['state']='readonly'\n",
    "com['values']=('jan','feb')\n",
    "com.place(x=10,y=50)\n",
    "com.current(0)\n",
    "\n",
    "\n",
    "def fun():\n",
    "    print(checkbutton1.get())\n",
    "    print(checkbutton2.get())\n",
    "\n",
    "checkbutton1=IntVar()\n",
    "checkbutton2=IntVar()\n",
    "\n",
    "select=Checkbutton(tp,text='male',variable=checkbutton1,onvalue=1,offvalue=0)\n",
    "select.pack()\n",
    "select=Checkbutton(tp,text='female',variable=checkbutton2,onvalue=1,offvalue=0)\n",
    "select.pack()\n",
    "btn1=Button(tp,text=\"get value\",command=fun).pack()\n",
    "\n",
    "\n",
    "var1=IntVar()\n",
    "\n",
    "radio=Radiobutton(tp,text='male',value=0,variable=var1).pack()\n",
    "radio=Radiobutton(tp,text='female',value=1,variable=var1).pack()\n",
    "\n",
    "def fun1():\n",
    "    if var1.get()==0:\n",
    "        print(\"male\")\n",
    "    else:\n",
    "        print(\"female\")\n",
    "        \n",
    "btn2=Button(tp,text=\"get male radio\",command=fun1).pack()\n",
    "\n",
    "\n",
    "tp.mainloop()"
   ]
  },
  {
   "cell_type": "code",
   "execution_count": 72,
   "id": "81e7877b",
   "metadata": {},
   "outputs": [],
   "source": [
    "tp1=Tk()\n",
    "\n",
    "tp1.title(\"maazi\")\n",
    "tp1.iconbitmap(\"C:/Users/Maazullah Khan Warsi/Downloads/icon.ico\")\n",
    "tp1.geometry('600x300')\n",
    "tp1.maxsize(width=600,height=300)\n",
    "tp1.minsize(width=400,height=200)\n",
    "\n",
    "\n",
    "topheader=Frame(tp1)\n",
    "topheader.pack()\n",
    "bottom=Frame(tp1)\n",
    "bottom.pack(side=BOTTOM) #right left top\n",
    "\n",
    "lb2=Label(topheader,text=\"header\",bg='red',fg='white').pack()#,width=10,height=10)\n",
    "lb3=Label(bottom,text=\"bottom\",bg='red',fg='white').pack()#,width=10,height=10)\n",
    "\n",
    "def funt2():\n",
    "    if var3.get()==\"\":\n",
    "        messagebox.showwarning(\"warning\",\"empty Box\")\n",
    "    else:\n",
    "        \n",
    "        messagebox.askokcancel('title','cancel or ok')\n",
    "        #messagebox.askyesno(\"title\",'Do you want to exit')\n",
    "        #tp1.destroy\n",
    "        #messagebox.showinfo(\"success\",var3.get())\n",
    "var3=StringVar()\n",
    "ent=Entry(tp1,textvariable=var3)\n",
    "ent.pack()\n",
    "btn3=Button(tp1,text=\"submit\",command=funt2).pack()\n",
    "\n",
    "\n",
    "def func4():\n",
    "    lst.delete(ANCHOR)\n",
    "lst=Listbox(tp1,width=20)\n",
    "items=['apple','banana','Etc']\n",
    "for i in items:\n",
    "    lst.insert(END,i)\n",
    "btn4=Button(tp1,text=\"delete\",command=func4).pack()\n",
    "lst.pack()\n",
    "\n",
    "\n",
    "caanvas=Canvas(tp1)\n",
    "cord=10,50,270,210\n",
    "caanvas.create_arc(cord,start=0,extent=180,fill='red')\n",
    "caanvas.create_line(cord)\n",
    "caanvas.pack()\n",
    "#caanvas.create_arc(x0,y0,x1,x2,option)\n",
    "\n",
    "tp1.mainloop()"
   ]
  },
  {
   "cell_type": "code",
   "execution_count": 74,
   "id": "c4e65cbc",
   "metadata": {},
   "outputs": [],
   "source": [
    "tp2=Tk()\n",
    "\n",
    "tp2.title(\"maazi\")\n",
    "tp2.iconbitmap(\"C:/Users/Maazullah Khan Warsi/Downloads/icon.ico\")\n",
    "tp2.geometry('600x300')\n",
    "tp2.maxsize(width=600,height=300)\n",
    "tp2.minsize(width=400,height=200)\n",
    "\n",
    "\n",
    "topheader=Frame(tp2)\n",
    "topheader.pack()\n",
    "bottom=Frame(tp2)\n",
    "bottom.pack(side=BOTTOM) #right left top\n",
    "\n",
    "\n",
    "caanvas=Canvas(tp2)\n",
    "cord=10,50,270,210\n",
    "caanvas.create_arc(cord,start=0,extent=180,fill='red')\n",
    "caanvas.create_line(cord)\n",
    "caanvas.pack()\n",
    "#caanvas.create_arc(x0,y0,x1,x2,option)\n",
    "\n",
    "tp2.mainloop()"
   ]
  },
  {
   "cell_type": "code",
   "execution_count": null,
   "id": "5ae404e6",
   "metadata": {},
   "outputs": [],
   "source": []
  },
  {
   "cell_type": "code",
   "execution_count": 14,
   "id": "39b3df9f",
   "metadata": {},
   "outputs": [],
   "source": [
    "\n",
    "from tkinter import*\n",
    "\n",
    "cal=Tk()\n",
    "cal.title(\"Calculator\")\n",
    "operator=\"\"\n",
    "text_Input=StringVar()\n",
    "text_Input2=StringVar()\n",
    "ment1=StringVar()\n",
    "ment2=StringVar()\n",
    "ment3=StringVar()\n",
    "ment4=StringVar()\n",
    "n=0\n",
    "i=0\n",
    "j=0\n",
    "x=[]\n",
    "y=[[]]\n",
    "\n",
    "def btnClick(numbers):\n",
    "    global operator\n",
    "    operator=operator+str(numbers)\n",
    "    text_Input.set(operator)\n",
    "\n",
    "def btnClearDisplay():\n",
    "    global operator\n",
    "    operator=\"\"\n",
    "    text_Input.set(\"\")\n",
    "\n",
    "def btnEqualsInput():\n",
    "    global operator\n",
    "    sumup=str(eval(operator))\n",
    "    text_Input.set(sumup)\n",
    "    operator=sumup\n",
    "\n",
    "def btnStore():\n",
    "    global i\n",
    "    print(x)\n",
    "    x[i]=(float(ment2.get()))\n",
    "    ment2.set(\"\")\n",
    "    print(x)\n",
    "    print(i)\n",
    "    i=i+1\n",
    "    b2=Button(cal,padx=8,pady=6,fg='yellow',font=('Ubuntu',14,'bold'),text=\"Store x\"+str(i),command=btnStore,bg='brown').grid(row=11,column=3)\n",
    "\n",
    "def btnStoren():\n",
    "    global n\n",
    "    global x\n",
    "    global y\n",
    "    n=int(ment1.get())\n",
    "    x=[0]*n\n",
    "    y = [[0 for i in range(n)] for j in range(n)]\n",
    "    print(x)\n",
    "    print(y)\n",
    "    l3=Label(cal,text=\"Enter \"+str(n)+\" x values\").grid(row=11,column=1)\n",
    "    l4=Label(cal,text=\"Enter \"+str(n)+\" y values\").grid(row=12,column=1)\n",
    "\n",
    "def btnStore1():\n",
    "    global j\n",
    "    print(y)\n",
    "    y[j][0]=(float(ment3.get()))\n",
    "    ment3.set(\"\")\n",
    "    print(y)\n",
    "    print(j)\n",
    "    j=j+1\n",
    "    b3=Button(cal,padx=8,pady=6,fg='yellow',font=('Ubuntu',14,'bold'),text=\"Store y\"+str(j),command=btnStore1,bg='brown').grid(row=12,column=3)\n",
    "\n",
    "def btnStore2():\n",
    "    value=float(ment4.get())\n",
    "    for i in range(1,n):\n",
    "        for j in range(n-i):\n",
    "            y[j][i]=y[j+1][i-1]-y[j][i-1]\n",
    "    sum = y[0][0]\n",
    "    u = (value-x[0])/(x[1]-x[0])\n",
    "    for i in range(1,n):\n",
    "        sum=sum+(u_cal(u,i)*y[0][i])/fact(i)\n",
    "    text_Input2.set(str(round(sum,6)))\n",
    "\n",
    "def u_cal(u, n):\n",
    "    temp = u\n",
    "    for i in range(1, n):\n",
    "        temp = temp * (u - i)\n",
    "    return temp\n",
    "\n",
    "def fact(n):\n",
    "    f = 1\n",
    "    for i in range(2, n + 1):\n",
    "        f *= i\n",
    "    return f\n",
    "   \n",
    "\n",
    "l1=Label(cal,text=\"Application of Newton Forward Interpolation\",font=('Ubuntu',20,'bold')).grid(row=7,columnspan=4)\n",
    "txtDisplay2=Entry(cal,font=('Ubuntu',20,'bold'),textvariable=text_Input2,bd=5,insertwidth=10,bg='brown',justify='right').grid(row=15,columnspan=4)\n",
    "l2=Label(cal,text=\"No. of x,y values to enter ?\").grid(row=10,column=1)\n",
    "e1=Entry(cal,bd=10,textvariable=ment1).grid(row=10,column=2)\n",
    "b1=Button(cal,padx=8,pady=6,fg='yellow',font=('Ubuntu',14,'bold'),text=\"Store n\",command=btnStoren,bg='brown').grid(row=10,column=3)\n",
    "\n",
    "l3=Label(cal,text=\"Enter x values\").grid(row=11,column=1)\n",
    "e2=Entry(cal,bd=10,textvariable=ment2).grid(row=11,column=2)\n",
    "b2=Button(cal,padx=8,pady=6,fg='yellow',font=('Ubuntu',14,'bold'),text=\"Store x\"+str(0),command=btnStore,bg='brown').grid(row=11,column=3)\n",
    "\n",
    "l4=Label(cal,text=\"Enter y values\").grid(row=12,column=1)\n",
    "e3=Entry(cal,bd=10,textvariable=ment3).grid(row=12,column=2)\n",
    "b3=Button(cal,padx=8,pady=6,fg='yellow',font=('Ubuntu',14,'bold'),text=\"Store y\"+str(0),command=btnStore1,bg='brown').grid(row=12,column=3)\n",
    "\n",
    "l5=Label(cal,text=\"Enter value of x for which value is to be found\").grid(row=13,column=1)\n",
    "e4=Entry(cal,bd=10,textvariable=ment4).grid(row=13,column=2)\n",
    "b4=Button(cal,padx=8,pady=6,fg='yellow',font=('Ubuntu',14,'bold'),text=\"Set&Go\",command=btnStore2,bg='brown').grid(row=13,column=3)\n",
    "\n",
    "cal.mainloop()\n"
   ]
  },
  {
   "cell_type": "code",
   "execution_count": 60,
   "id": "4199b31f",
   "metadata": {},
   "outputs": [],
   "source": [
    "# -*- coding: utf-8 -*-\n",
    "\n",
    "# Form implementation generated from reading ui file 'application.ui'\n",
    "#\n",
    "# Created by: PyQt5 UI code generator 5.15.2\n",
    "#\n",
    "# WARNING: Any manual changes made to this file will be lost when pyuic5 is\n",
    "# run again.  Do not edit this file unless you know what you are doing.\n",
    "\n",
    "\n",
    "from PyQt5 import QtCore, QtGui, QtWidgets\n",
    "\n",
    "\n",
    "class Ui_MainWindow(object):\n",
    "    def setupUi(self, MainWindow):\n",
    "        MainWindow.setObjectName(\"MainWindow\")\n",
    "        MainWindow.resize(620, 460)\n",
    "        MainWindow.setTabShape(QtWidgets.QTabWidget.Rounded)\n",
    "        self.centralwidget = QtWidgets.QWidget(MainWindow)\n",
    "        self.centralwidget.setObjectName(\"centralwidget\")\n",
    "        self.groupBox_function = QtWidgets.QGroupBox(self.centralwidget)\n",
    "        self.groupBox_function.setGeometry(QtCore.QRect(10, 10, 160, 170))\n",
    "        self.groupBox_function.setObjectName(\"groupBox_function\")\n",
    "        self.radioButton_liniowa = QtWidgets.QRadioButton(self.groupBox_function)\n",
    "        self.radioButton_liniowa.setGeometry(QtCore.QRect(10, 20, 120, 20))\n",
    "        self.radioButton_liniowa.setObjectName(\"radioButton_liniowa\")\n",
    "        self.radioButton_wielomianowa = QtWidgets.QRadioButton(self.groupBox_function)\n",
    "        self.radioButton_wielomianowa.setGeometry(QtCore.QRect(10, 50, 120, 20))\n",
    "        self.radioButton_wielomianowa.setObjectName(\"radioButton_wielomianowa\")\n",
    "        self.radioButton_trygonometryczna = QtWidgets.QRadioButton(self.groupBox_function)\n",
    "        self.radioButton_trygonometryczna.setGeometry(QtCore.QRect(10, 80, 120, 20))\n",
    "        self.radioButton_trygonometryczna.setObjectName(\"radioButton_trygonometryczna\")\n",
    "        self.radioButton_modul = QtWidgets.QRadioButton(self.groupBox_function)\n",
    "        self.radioButton_modul.setGeometry(QtCore.QRect(10, 110, 120, 20))\n",
    "        self.radioButton_modul.setObjectName(\"radioButton_modul\")\n",
    "        self.radioButton_zlozenie = QtWidgets.QRadioButton(self.groupBox_function)\n",
    "        self.radioButton_zlozenie.setGeometry(QtCore.QRect(10, 140, 120, 20))\n",
    "        self.radioButton_zlozenie.setObjectName(\"radioButton_zlozenie\")\n",
    "        self.groupBox_zakres = QtWidgets.QGroupBox(self.centralwidget)\n",
    "        self.groupBox_zakres.setGeometry(QtCore.QRect(190, 10, 200, 170))\n",
    "        self.groupBox_zakres.setObjectName(\"groupBox_zakres\")\n",
    "        self.label_zakres = QtWidgets.QLabel(self.groupBox_zakres)\n",
    "        self.label_zakres.setGeometry(QtCore.QRect(75, 20, 50, 13))\n",
    "        font = QtGui.QFont()\n",
    "        font.setBold(True)\n",
    "        font.setWeight(75)\n",
    "        self.label_zakres.setFont(font)\n",
    "        self.label_zakres.setObjectName(\"label_zakres\")\n",
    "        self.lineEdit_zakresStart = QtWidgets.QLineEdit(self.groupBox_zakres)\n",
    "        self.lineEdit_zakresStart.setGeometry(QtCore.QRect(10, 60, 80, 20))\n",
    "        self.lineEdit_zakresStart.setAlignment(QtCore.Qt.AlignCenter)\n",
    "        self.lineEdit_zakresStart.setObjectName(\"lineEdit_zakresStart\")\n",
    "        self.lineEdit_zakresStop = QtWidgets.QLineEdit(self.groupBox_zakres)\n",
    "        self.lineEdit_zakresStop.setGeometry(QtCore.QRect(110, 60, 80, 20))\n",
    "        self.lineEdit_zakresStop.setAlignment(QtCore.Qt.AlignCenter)\n",
    "        self.lineEdit_zakresStop.setObjectName(\"lineEdit_zakresStop\")\n",
    "        self.label_poczatek = QtWidgets.QLabel(self.groupBox_zakres)\n",
    "        self.label_poczatek.setGeometry(QtCore.QRect(20, 40, 60, 13))\n",
    "        self.label_poczatek.setAlignment(QtCore.Qt.AlignCenter)\n",
    "        self.label_poczatek.setObjectName(\"label_poczatek\")\n",
    "        self.label_koniec = QtWidgets.QLabel(self.groupBox_zakres)\n",
    "        self.label_koniec.setGeometry(QtCore.QRect(120, 40, 60, 13))\n",
    "        self.label_koniec.setAlignment(QtCore.Qt.AlignCenter)\n",
    "        self.label_koniec.setObjectName(\"label_koniec\")\n",
    "        self.label_wezly = QtWidgets.QLabel(self.groupBox_zakres)\n",
    "        self.label_wezly.setGeometry(QtCore.QRect(50, 100, 100, 13))\n",
    "        font = QtGui.QFont()\n",
    "        font.setBold(True)\n",
    "        font.setWeight(75)\n",
    "        self.label_wezly.setFont(font)\n",
    "        self.label_wezly.setAlignment(QtCore.Qt.AlignCenter)\n",
    "        self.label_wezly.setObjectName(\"label_wezly\")\n",
    "        self.spinBox_wezly = QtWidgets.QSpinBox(self.groupBox_zakres)\n",
    "        self.spinBox_wezly.setGeometry(QtCore.QRect(75, 130, 50, 22))\n",
    "        self.spinBox_wezly.setObjectName(\"spinBox_wezly\")\n",
    "        self.pushButton_interpolacja = QtWidgets.QPushButton(self.centralwidget)\n",
    "        self.pushButton_interpolacja.setGeometry(QtCore.QRect(410, 15, 200, 165))\n",
    "        font = QtGui.QFont()\n",
    "        font.setPointSize(16)\n",
    "        font.setBold(True)\n",
    "        font.setWeight(75)\n",
    "        self.pushButton_interpolacja.setFont(font)\n",
    "        self.pushButton_interpolacja.setObjectName(\"pushButton_interpolacja\")\n",
    "        self.groupBox_wybranaFunkcja = QtWidgets.QGroupBox(self.centralwidget)\n",
    "        self.groupBox_wybranaFunkcja.setGeometry(QtCore.QRect(10, 190, 600, 80))\n",
    "        self.groupBox_wybranaFunkcja.setObjectName(\"groupBox_wybranaFunkcja\")\n",
    "        self.label_wybranaFunkcja = QtWidgets.QLabel(self.groupBox_wybranaFunkcja)\n",
    "        self.label_wybranaFunkcja.setGeometry(QtCore.QRect(20, 30, 560, 30))\n",
    "        self.label_wybranaFunkcja.setObjectName(\"label_wybranaFunkcja\")\n",
    "        self.groupBox_punktyInterpolacji = QtWidgets.QGroupBox(self.centralwidget)\n",
    "        self.groupBox_punktyInterpolacji.setGeometry(QtCore.QRect(10, 280, 600, 60))\n",
    "        self.groupBox_punktyInterpolacji.setObjectName(\"groupBox_punktyInterpolacji\")\n",
    "        self.label_punktyInterpolacji = QtWidgets.QLabel(self.groupBox_punktyInterpolacji)\n",
    "        self.label_punktyInterpolacji.setGeometry(QtCore.QRect(20, 25, 560, 20))\n",
    "        self.label_punktyInterpolacji.setObjectName(\"label_punktyInterpolacji\")\n",
    "        self.groupBox_info = QtWidgets.QGroupBox(self.centralwidget)\n",
    "        self.groupBox_info.setGeometry(QtCore.QRect(10, 350, 600, 60))\n",
    "        self.groupBox_info.setObjectName(\"groupBox_info\")\n",
    "        self.label_info = QtWidgets.QLabel(self.groupBox_info)\n",
    "        self.label_info.setGeometry(QtCore.QRect(20, 25, 560, 20))\n",
    "        self.label_info.setObjectName(\"label_info\")\n",
    "        MainWindow.setCentralWidget(self.centralwidget)\n",
    "        self.menubar = QtWidgets.QMenuBar(MainWindow)\n",
    "        self.menubar.setGeometry(QtCore.QRect(0, 0, 620, 21))\n",
    "        self.menubar.setObjectName(\"menubar\")\n",
    "        MainWindow.setMenuBar(self.menubar)\n",
    "        self.statusbar = QtWidgets.QStatusBar(MainWindow)\n",
    "        self.statusbar.setObjectName(\"statusbar\")\n",
    "        MainWindow.setStatusBar(self.statusbar)\n",
    "\n",
    "        self.retranslateUi(MainWindow)\n",
    "        QtCore.QMetaObject.connectSlotsByName(MainWindow)\n",
    "\n",
    "    def retranslateUi(self, MainWindow):\n",
    "        _translate = QtCore.QCoreApplication.translate\n",
    "        MainWindow.setWindowTitle(_translate(\"MainWindow\", \"INTERPOLACJA\"))\n",
    "        self.groupBox_function.setTitle(_translate(\"MainWindow\", \"Wybierz Funkcję\"))\n",
    "        self.radioButton_liniowa.setText(_translate(\"MainWindow\", \"Liniowa\"))\n",
    "        self.radioButton_wielomianowa.setText(_translate(\"MainWindow\", \"Wielomianowa\"))\n",
    "        self.radioButton_trygonometryczna.setText(_translate(\"MainWindow\", \"Trygonometryczna\"))\n",
    "        self.radioButton_modul.setText(_translate(\"MainWindow\", \"|x|\"))\n",
    "        self.radioButton_zlozenie.setText(_translate(\"MainWindow\", \"Złożenie\"))\n",
    "        self.groupBox_zakres.setTitle(_translate(\"MainWindow\", \"Wybierz zakres oraz liczbę węzłów\"))\n",
    "        self.label_zakres.setText(_translate(\"MainWindow\", \"ZAKRES\"))\n",
    "        self.lineEdit_zakresStart.setPlaceholderText(_translate(\"MainWindow\", \"Początek\"))\n",
    "        self.lineEdit_zakresStop.setPlaceholderText(_translate(\"MainWindow\", \"Koniec\"))\n",
    "        self.label_poczatek.setText(_translate(\"MainWindow\", \"Początek\"))\n",
    "        self.label_koniec.setText(_translate(\"MainWindow\", \"Koniec\"))\n",
    "        self.label_wezly.setText(_translate(\"MainWindow\", \"LICZBA WĘZŁÓW\"))\n",
    "        self.pushButton_interpolacja.setText(_translate(\"MainWindow\", \"INTERPOLACJA\"))\n",
    "        self.groupBox_wybranaFunkcja.setTitle(_translate(\"MainWindow\", \"Wybrana Funkcja\"))\n",
    "        self.label_wybranaFunkcja.setText(_translate(\"MainWindow\", \"*WYBRANA FUNCKJA*\"))\n",
    "        self.groupBox_punktyInterpolacji.setTitle(_translate(\"MainWindow\", \"Punkty Interpolacyjne\"))\n",
    "        self.label_punktyInterpolacji.setText(_translate(\"MainWindow\", \"*PUNKTY INTERPOLACYJNE*\"))\n",
    "        self.groupBox_info.setTitle(_translate(\"MainWindow\", \"Informacje\"))\n",
    "        self.label_info.setText(_translate(\"MainWindow\", \"*INFORMACJE*\"))"
   ]
  },
  {
   "cell_type": "code",
   "execution_count": null,
   "id": "f1b453cf",
   "metadata": {},
   "outputs": [],
   "source": [
    "\n",
    "\n",
    "\n",
    "from PyQt5 import QtCore, QtGui, QtWidgets\n",
    "import application\n",
    "import numpy as np\n",
    "import matplotlib.pyplot as plt\n",
    "\n",
    "class MyQtApp(application.Ui_MainWindow, QtWidgets.QMainWindow):\n",
    "\n",
    "    choosedFunction = None\n",
    "    start = None\n",
    "    stop = None\n",
    "    node_amount = None\n",
    "    interpolation_nodes = None\n",
    "\n",
    "    def __init__(self):\n",
    "        super(MyQtApp, self).__init__()\n",
    "        self.setupUi(self)\n",
    "        self.radioButton_liniowa.clicked.connect(self.liniowa_choosed)\n",
    "        self.radioButton_wielomianowa.clicked.connect(self.wielomianowa_choosed)\n",
    "        self.radioButton_trygonometryczna.clicked.connect(self.trygonometryczna_choosed)\n",
    "        self.radioButton_modul.clicked.connect(self.modul_choosed)\n",
    "        self.radioButton_zlozenie.clicked.connect(self.zlozona_choosed)\n",
    "        self.pushButton_interpolacja.clicked.connect(self.interpolacja_button)\n",
    "\n",
    "    def liniowa_choosed(self):\n",
    "        self.label_wybranaFunkcja.setText('3*x+2')\n",
    "        MyQtApp.choosedFunction = MyQtApp.liniowa\n",
    "\n",
    "    def wielomianowa_choosed(self):\n",
    "        self.label_wybranaFunkcja.setText('x**3+5*x**2-4*x-20')\n",
    "        MyQtApp.choosedFunction = MyQtApp.wielomianowa\n",
    "\n",
    "    def trygonometryczna_choosed(self):\n",
    "        self.label_wybranaFunkcja.setText('3*sin(x)-cos(x)')\n",
    "        MyQtApp.choosedFunction = MyQtApp.trygonometryczna\n",
    "\n",
    "    def modul_choosed(self):\n",
    "        self.label_wybranaFunkcja.setText('|x|')\n",
    "        MyQtApp.choosedFunction = MyQtApp.modul\n",
    "\n",
    "    def zlozona_choosed(self):\n",
    "        self.label_wybranaFunkcja.setText('|(3*x+2)*(x**3+5*x**2-4*x-20)/(3*np.sin(x)-np.cos(x))|')\n",
    "        MyQtApp.choosedFunction = MyQtApp.zlozona\n",
    "\n",
    "    def interpolacja_button(self):\n",
    "        if MyQtApp.choosedFunction is not None and self.lineEdit_zakresStart.text() != '' and self.lineEdit_zakresStop.text() != '' and self.spinBox_wezly.value() != 0:\n",
    "            self.label_info.setStyleSheet(\"color: green;\")\n",
    "            self.label_info.setText(\"WSZYSTKIE POLA WYPEŁNIONE :)\")\n",
    "            MyQtApp.start = float(self.lineEdit_zakresStart.text())\n",
    "            MyQtApp.stop = float(self.lineEdit_zakresStop.text())\n",
    "            MyQtApp.node_amount = self.spinBox_wezly.value()\n",
    "            MyQtApp.interpolation_nodes = np.sort(np.random.uniform(low=MyQtApp.start, high=MyQtApp.stop, size=MyQtApp.node_amount))\n",
    "            print(MyQtApp.interpolation_nodes)\n",
    "            self.label_punktyInterpolacji.setText(str(MyQtApp.interpolation_nodes))\n",
    "            if MyQtApp.choosedFunction == MyQtApp.wielomianowa:\n",
    "                print(\"TO JEST WIELOMIANOWA\")\n",
    "                self.label_info.setText(\"WSZYSTKIE POLA WYPEŁNIONE :) | KORZYSTANIE ZE SCHEMATU HORNERA\")\n",
    "                y1 = list(map(MyQtApp.choosedFunction, MyQtApp.interpolation_nodes))\n",
    "                y_horner = []\n",
    "                for x in MyQtApp.interpolation_nodes:\n",
    "                    y_horner.append(self.horner([1, 5, -4, -20], 4, x))\n",
    "                print(y_horner, '\\n', y1)\n",
    "                # wyznaczamy współczynniki\n",
    "                F = self.lagrange(MyQtApp.interpolation_nodes, y_horner)\n",
    "                print(F)\n",
    "                # wyliczamy wartość funkcji F(x) dla \"gęściej\" rozmieszczonych punktów\n",
    "                x2 = np.linspace(MyQtApp.start, MyQtApp.stop, 100)\n",
    "                y2 = F(x2)\n",
    "\n",
    "                plt.figure(figsize=(10, 8))\n",
    "                # rysujemy nasze \"punkty\"\n",
    "                plt.plot(MyQtApp.interpolation_nodes, y_horner, 'b.')\n",
    "\n",
    "                # rysujemy wynik interpolacji\n",
    "                plt.plot(x2, y2, 'r')\n",
    "\n",
    "                # a powinno to wyglądać tak\n",
    "                plt.plot(x2, list(map(MyQtApp.choosedFunction, x2)), 'g')\n",
    "                plt.grid()\n",
    "                plt.show()\n",
    "            else:\n",
    "                print(\"TO JEST INNA NIŻ WIELOMIANOWA\")\n",
    "                self.label_info.setText(\"WSZYSTKIE POLA WYPEŁNIONE :)\")\n",
    "                y1 = list(map(MyQtApp.choosedFunction, MyQtApp.interpolation_nodes))\n",
    "                print('\\n', y1)\n",
    "                # wyznaczamy współczynniki\n",
    "                F = self.lagrange(MyQtApp.interpolation_nodes, y1)\n",
    "                print(F)\n",
    "                # wyliczamy wartość funkcji F(x) dla \"gęściej\" rozmieszczonych punktów\n",
    "                x2 = np.linspace(MyQtApp.start, MyQtApp.stop, 100)\n",
    "                y2 = F(x2)\n",
    "\n",
    "                plt.figure(figsize=(10, 8))\n",
    "                # rysujemy nasze \"punkty\"\n",
    "                plt.plot(MyQtApp.interpolation_nodes, y1, 'b.', label='Węzły')\n",
    "\n",
    "                # rysujemy wynik interpolacji\n",
    "                plt.plot(x2, y2, 'r', label='Interpolacja')\n",
    "\n",
    "                # a powinno to wyglądać tak\n",
    "                plt.plot(x2, list(map(MyQtApp.choosedFunction, x2)), 'g', label='Funkcja')\n",
    "                plt.grid()\n",
    "                plt.legend()\n",
    "                plt.show()\n",
    "        else:\n",
    "            self.label_info.setStyleSheet(\"color: red;\")\n",
    "            self.label_info.setText(\"WYPEŁNIJ WSZYSTKIE POLA!!!\")\n",
    "\n",
    "    def horner(self, poly, n, x):\n",
    "\n",
    "        # Zainicjowanie wyniku\n",
    "        result = poly[0]\n",
    "\n",
    "        # Oszacowanie wartości wielomianu\n",
    "        # używając metody hornera\n",
    "        for i in range(1, n):\n",
    "            result = result * x + poly[i]\n",
    "\n",
    "        return result\n",
    "\n",
    "    def lagrange(self, x, w):\n",
    "        M = len(x)\n",
    "        p = np.poly1d(0.0)\n",
    "        for j in range(M):\n",
    "            pt = np.poly1d(w[j])\n",
    "            for k in range(M):\n",
    "                if k == j:\n",
    "                    continue\n",
    "                fac = x[j] - x[k]\n",
    "                pt *= np.poly1d([1.0, -x[k]]) / fac\n",
    "            p += pt\n",
    "        return p\n",
    "\n",
    "    liniowa = lambda x: 3*x+2\n",
    "    wielomianowa = lambda x: x**3+5*x**2-4*x-20\n",
    "    trygonometryczna = lambda x: 3*np.sin(x)-np.cos(x)\n",
    "    # modul = lambda x: x/(x*x+0.1)**0.5\n",
    "    modul = lambda x: abs(x)\n",
    "    zlozona = lambda x: abs((3*x+2)*(x**3+5*x**2-4*x-20)/(3*np.sin(x)-np.cos(x)))\n",
    "\n",
    "if __name__ == \"__main__\":\n",
    "    import sys\n",
    "    app = QtWidgets.QApplication(sys.argv)\n",
    "    # MainWindow = QtWidgets.QMainWindow()\n",
    "    ui = MyQtApp()\n",
    "    # ui.setupUi(MainWindow)\n",
    "    ui.show()\n",
    "    sys.exit(app.exec_())"
   ]
  },
  {
   "cell_type": "code",
   "execution_count": 4,
   "id": "32358f86",
   "metadata": {},
   "outputs": [
    {
     "name": "stdout",
     "output_type": "stream",
     "text": [
      "Enter number of unknowns: 3\n",
      "Enter Augmented Matrix Coefficients:\n",
      "a[0][0]=25\n",
      "a[0][1]=5\n",
      "a[0][2]=1\n"
     ]
    },
    {
     "ename": "KeyboardInterrupt",
     "evalue": "Interrupted by user",
     "output_type": "error",
     "traceback": [
      "\u001b[1;31m---------------------------------------------------------------------------\u001b[0m",
      "\u001b[1;31mKeyboardInterrupt\u001b[0m                         Traceback (most recent call last)",
      "\u001b[1;32m<ipython-input-4-476e641c240e>\u001b[0m in \u001b[0;36m<module>\u001b[1;34m\u001b[0m\n\u001b[0;32m     10\u001b[0m \u001b[1;32mfor\u001b[0m \u001b[0mi\u001b[0m \u001b[1;32min\u001b[0m \u001b[0mrange\u001b[0m\u001b[1;33m(\u001b[0m\u001b[0mn\u001b[0m\u001b[1;33m)\u001b[0m\u001b[1;33m:\u001b[0m\u001b[1;33m\u001b[0m\u001b[1;33m\u001b[0m\u001b[0m\n\u001b[0;32m     11\u001b[0m     \u001b[1;32mfor\u001b[0m \u001b[0mj\u001b[0m \u001b[1;32min\u001b[0m \u001b[0mrange\u001b[0m\u001b[1;33m(\u001b[0m\u001b[0mn\u001b[0m\u001b[1;33m)\u001b[0m\u001b[1;33m:\u001b[0m\u001b[1;33m\u001b[0m\u001b[1;33m\u001b[0m\u001b[0m\n\u001b[1;32m---> 12\u001b[1;33m         \u001b[0ma\u001b[0m\u001b[1;33m[\u001b[0m\u001b[0mi\u001b[0m\u001b[1;33m]\u001b[0m\u001b[1;33m[\u001b[0m\u001b[0mj\u001b[0m\u001b[1;33m]\u001b[0m \u001b[1;33m=\u001b[0m \u001b[0mfloat\u001b[0m\u001b[1;33m(\u001b[0m\u001b[0minput\u001b[0m\u001b[1;33m(\u001b[0m \u001b[1;34m'a['\u001b[0m\u001b[1;33m+\u001b[0m\u001b[0mstr\u001b[0m\u001b[1;33m(\u001b[0m\u001b[0mi\u001b[0m\u001b[1;33m)\u001b[0m\u001b[1;33m+\u001b[0m\u001b[1;34m']['\u001b[0m\u001b[1;33m+\u001b[0m \u001b[0mstr\u001b[0m\u001b[1;33m(\u001b[0m\u001b[0mj\u001b[0m\u001b[1;33m)\u001b[0m\u001b[1;33m+\u001b[0m\u001b[1;34m']='\u001b[0m\u001b[1;33m)\u001b[0m\u001b[1;33m)\u001b[0m\u001b[1;33m\u001b[0m\u001b[1;33m\u001b[0m\u001b[0m\n\u001b[0m\u001b[0;32m     13\u001b[0m \u001b[1;33m\u001b[0m\u001b[0m\n\u001b[0;32m     14\u001b[0m \u001b[1;32mfor\u001b[0m \u001b[0mi\u001b[0m \u001b[1;32min\u001b[0m \u001b[0mrange\u001b[0m\u001b[1;33m(\u001b[0m\u001b[0mn\u001b[0m\u001b[1;33m)\u001b[0m\u001b[1;33m:\u001b[0m\u001b[1;33m\u001b[0m\u001b[1;33m\u001b[0m\u001b[0m\n",
      "\u001b[1;32mE:\\anaconda\\lib\\site-packages\\ipykernel\\kernelbase.py\u001b[0m in \u001b[0;36mraw_input\u001b[1;34m(self, prompt)\u001b[0m\n\u001b[0;32m    858\u001b[0m                 \u001b[1;34m\"raw_input was called, but this frontend does not support input requests.\"\u001b[0m\u001b[1;33m\u001b[0m\u001b[1;33m\u001b[0m\u001b[0m\n\u001b[0;32m    859\u001b[0m             )\n\u001b[1;32m--> 860\u001b[1;33m         return self._input_request(str(prompt),\n\u001b[0m\u001b[0;32m    861\u001b[0m             \u001b[0mself\u001b[0m\u001b[1;33m.\u001b[0m\u001b[0m_parent_ident\u001b[0m\u001b[1;33m,\u001b[0m\u001b[1;33m\u001b[0m\u001b[1;33m\u001b[0m\u001b[0m\n\u001b[0;32m    862\u001b[0m             \u001b[0mself\u001b[0m\u001b[1;33m.\u001b[0m\u001b[0m_parent_header\u001b[0m\u001b[1;33m,\u001b[0m\u001b[1;33m\u001b[0m\u001b[1;33m\u001b[0m\u001b[0m\n",
      "\u001b[1;32mE:\\anaconda\\lib\\site-packages\\ipykernel\\kernelbase.py\u001b[0m in \u001b[0;36m_input_request\u001b[1;34m(self, prompt, ident, parent, password)\u001b[0m\n\u001b[0;32m    902\u001b[0m             \u001b[1;32mexcept\u001b[0m \u001b[0mKeyboardInterrupt\u001b[0m\u001b[1;33m:\u001b[0m\u001b[1;33m\u001b[0m\u001b[1;33m\u001b[0m\u001b[0m\n\u001b[0;32m    903\u001b[0m                 \u001b[1;31m# re-raise KeyboardInterrupt, to truncate traceback\u001b[0m\u001b[1;33m\u001b[0m\u001b[1;33m\u001b[0m\u001b[1;33m\u001b[0m\u001b[0m\n\u001b[1;32m--> 904\u001b[1;33m                 \u001b[1;32mraise\u001b[0m \u001b[0mKeyboardInterrupt\u001b[0m\u001b[1;33m(\u001b[0m\u001b[1;34m\"Interrupted by user\"\u001b[0m\u001b[1;33m)\u001b[0m \u001b[1;32mfrom\u001b[0m \u001b[1;32mNone\u001b[0m\u001b[1;33m\u001b[0m\u001b[1;33m\u001b[0m\u001b[0m\n\u001b[0m\u001b[0;32m    905\u001b[0m             \u001b[1;32mexcept\u001b[0m \u001b[0mException\u001b[0m \u001b[1;32mas\u001b[0m \u001b[0me\u001b[0m\u001b[1;33m:\u001b[0m\u001b[1;33m\u001b[0m\u001b[1;33m\u001b[0m\u001b[0m\n\u001b[0;32m    906\u001b[0m                 \u001b[0mself\u001b[0m\u001b[1;33m.\u001b[0m\u001b[0mlog\u001b[0m\u001b[1;33m.\u001b[0m\u001b[0mwarning\u001b[0m\u001b[1;33m(\u001b[0m\u001b[1;34m\"Invalid Message:\"\u001b[0m\u001b[1;33m,\u001b[0m \u001b[0mexc_info\u001b[0m\u001b[1;33m=\u001b[0m\u001b[1;32mTrue\u001b[0m\u001b[1;33m)\u001b[0m\u001b[1;33m\u001b[0m\u001b[1;33m\u001b[0m\u001b[0m\n",
      "\u001b[1;31mKeyboardInterrupt\u001b[0m: Interrupted by user"
     ]
    }
   ],
   "source": [
    "import numpy as np\n",
    "import sys\n",
    "\n",
    "n = int(input('Enter number of unknowns: '))\n",
    "\n",
    "a = np.zeros((n,n+1))\n",
    "x = np.zeros(n)\n",
    "\n",
    "print('Enter Augmented Matrix Coefficients:')\n",
    "for i in range(n):\n",
    "    for j in range(n):\n",
    "        a[i][j] = float(input( 'a['+str(i)+']['+ str(j)+']='))\n",
    "\n",
    "for i in range(n):\n",
    "    if a[i][i] == 0.0:\n",
    "        sys.exit('Divide by zero detected!')\n",
    "        \n",
    "    for j in range(n):\n",
    "        if i != j:\n",
    "            ratio = a[j][i]/a[i][i]\n",
    "\n",
    "            for k in range(n+1):\n",
    "                a[j][k] = a[j][k] - ratio * a[i][k]\n",
    "\n",
    "for i in range(n):\n",
    "    x[i] = a[i][n]/a[i][i]\n",
    "\n",
    "print('\\nRequired solution is: ')\n",
    "for i in range(n):\n",
    "    print('X%d = %0.2f' %(i,x[i]), end = '\\t')"
   ]
  },
  {
   "cell_type": "markdown",
   "id": "e0fa92ee",
   "metadata": {},
   "source": [
    "###### "
   ]
  },
  {
   "cell_type": "code",
   "execution_count": 9,
   "id": "40dcde1f",
   "metadata": {},
   "outputs": [
    {
     "ename": "NameError",
     "evalue": "name 'self' is not defined",
     "output_type": "error",
     "traceback": [
      "\u001b[1;31m---------------------------------------------------------------------------\u001b[0m",
      "\u001b[1;31mNameError\u001b[0m                                 Traceback (most recent call last)",
      "\u001b[1;32m<ipython-input-9-6b61b1a9ce5f>\u001b[0m in \u001b[0;36m<module>\u001b[1;34m\u001b[0m\n\u001b[0;32m     33\u001b[0m \u001b[0mlist1\u001b[0m\u001b[1;33m.\u001b[0m\u001b[0mhead\u001b[0m\u001b[1;33m.\u001b[0m\u001b[0mnext\u001b[0m\u001b[1;33m.\u001b[0m\u001b[0mnext\u001b[0m\u001b[1;33m=\u001b[0m\u001b[0mNode\u001b[0m\u001b[1;33m(\u001b[0m\u001b[1;34m\"wed\"\u001b[0m\u001b[1;33m)\u001b[0m\u001b[1;33m\u001b[0m\u001b[1;33m\u001b[0m\u001b[0m\n\u001b[0;32m     34\u001b[0m \u001b[0mlist1\u001b[0m\u001b[1;33m.\u001b[0m\u001b[0minsertAtbegnning\u001b[0m\u001b[1;33m(\u001b[0m\u001b[1;34m\"sun\"\u001b[0m\u001b[1;33m)\u001b[0m\u001b[1;33m\u001b[0m\u001b[1;33m\u001b[0m\u001b[0m\n\u001b[1;32m---> 35\u001b[1;33m \u001b[0mlist1\u001b[0m\u001b[1;33m.\u001b[0m\u001b[0minsertatend\u001b[0m\u001b[1;33m(\u001b[0m\u001b[1;34m\"thurs\"\u001b[0m\u001b[1;33m)\u001b[0m\u001b[1;33m\u001b[0m\u001b[1;33m\u001b[0m\u001b[0m\n\u001b[0m\u001b[0;32m     36\u001b[0m \u001b[0mlist1\u001b[0m\u001b[1;33m.\u001b[0m\u001b[0mlistprint\u001b[0m\u001b[1;33m(\u001b[0m\u001b[1;33m)\u001b[0m\u001b[1;33m\u001b[0m\u001b[1;33m\u001b[0m\u001b[0m\n",
      "\u001b[1;32m<ipython-input-9-6b61b1a9ce5f>\u001b[0m in \u001b[0;36minsertatend\u001b[1;34m(Self, value)\u001b[0m\n\u001b[0;32m     14\u001b[0m             \u001b[0mself\u001b[0m\u001b[1;33m.\u001b[0m\u001b[0mstart\u001b[0m\u001b[1;33m=\u001b[0m\u001b[0mtemp\u001b[0m\u001b[1;33m\u001b[0m\u001b[1;33m\u001b[0m\u001b[0m\n\u001b[0;32m     15\u001b[0m     \u001b[1;32mdef\u001b[0m \u001b[0minsertatend\u001b[0m\u001b[1;33m(\u001b[0m\u001b[0mSelf\u001b[0m\u001b[1;33m,\u001b[0m\u001b[0mvalue\u001b[0m\u001b[1;33m)\u001b[0m\u001b[1;33m:\u001b[0m\u001b[1;33m\u001b[0m\u001b[1;33m\u001b[0m\u001b[0m\n\u001b[1;32m---> 16\u001b[1;33m         \u001b[1;32mif\u001b[0m\u001b[1;33m(\u001b[0m\u001b[0mself\u001b[0m\u001b[1;33m.\u001b[0m\u001b[0mhead\u001b[0m \u001b[1;32mis\u001b[0m \u001b[1;32mNone\u001b[0m\u001b[1;33m)\u001b[0m\u001b[1;33m:\u001b[0m\u001b[1;33m\u001b[0m\u001b[1;33m\u001b[0m\u001b[0m\n\u001b[0m\u001b[0;32m     17\u001b[0m             \u001b[0mself\u001b[0m\u001b[1;33m.\u001b[0m\u001b[0mhead\u001b[0m\u001b[1;33m=\u001b[0m\u001b[0mNode\u001b[0m\u001b[1;33m(\u001b[0m\u001b[0mvalue\u001b[0m\u001b[1;33m)\u001b[0m\u001b[1;33m\u001b[0m\u001b[1;33m\u001b[0m\u001b[0m\n\u001b[0;32m     18\u001b[0m         \u001b[1;32melse\u001b[0m\u001b[1;33m:\u001b[0m\u001b[1;33m\u001b[0m\u001b[1;33m\u001b[0m\u001b[0m\n",
      "\u001b[1;31mNameError\u001b[0m: name 'self' is not defined"
     ]
    }
   ],
   "source": [
    "class Node:\n",
    "    def __init__(self, my_data):\n",
    "        self.data=my_data\n",
    "        self.next=None\n",
    "class singlst:\n",
    "    def __init__(self):\n",
    "        self.head=None\n",
    "    def insertAtbegnning(self,value):\n",
    "        if(self.head==None):\n",
    "            self.head=Node(value)\n",
    "        else:\n",
    "            temp=Node(value)\n",
    "            temp.next=self.head\n",
    "            self.start=temp\n",
    "    def insertatend(Self,value):\n",
    "        if(self.head is None):\n",
    "            self.head=Node(value)\n",
    "        else:\n",
    "            ptr=self.head\n",
    "            while ptr.next!=None:\n",
    "                ptr.next=Node(value)\n",
    "            ptr.next=Node(value)\n",
    "                \n",
    "    def listprint(self):\n",
    "        printv=self.head\n",
    "        while printv is not None:\n",
    "            print(printv.data)\n",
    "            printv=printv.next\n",
    "\n",
    "list1=singlst()\n",
    "list1.head=Node(\"mon\")\n",
    "list1.head.next=Node(\"tue\")\n",
    "list1.head.next.next=Node(\"wed\")\n",
    "list1.insertAtbegnning(\"sun\")\n",
    "list1.insertatend(\"thurs\")\n",
    "list1.listprint()"
   ]
  },
  {
   "cell_type": "code",
   "execution_count": 3,
   "id": "9d8f0e86",
   "metadata": {},
   "outputs": [
    {
     "name": "stdout",
     "output_type": "stream",
     "text": [
      "[4, 5, 4, 5]\n"
     ]
    }
   ],
   "source": [
    "a=[1,2,3,4,5]\n",
    "b=[9,8,7,6,5,4]\n",
    "c=[]\n",
    "for i in a:\n",
    "    for j in b:\n",
    "        if (i==j):\n",
    "            c.append(i)\n",
    "            \n",
    "for i in range(len(a)):\n",
    "    for j in range(len(b)):\n",
    "        if(a[i]==b[j]):\n",
    "            c.append(a[i])\n",
    "print(c)"
   ]
  },
  {
   "cell_type": "code",
   "execution_count": 5,
   "id": "6f33a93e",
   "metadata": {},
   "outputs": [
    {
     "data": {
      "text/plain": [
       "['h', 'u', 'm', 'a', 'n']"
      ]
     },
     "execution_count": 5,
     "metadata": {},
     "output_type": "execute_result"
    }
   ],
   "source": [
    "h=[letter for letter in \"human\"]\n",
    "h"
   ]
  },
  {
   "cell_type": "code",
   "execution_count": 13,
   "id": "91929ee6",
   "metadata": {},
   "outputs": [
    {
     "name": "stdout",
     "output_type": "stream",
     "text": [
      "2 X 4 = 8\n"
     ]
    }
   ],
   "source": [
    "q=[2*i for i in range(10)]\n",
    "print(f\"2 X {i} = {2*i}\")"
   ]
  },
  {
   "cell_type": "code",
   "execution_count": 9,
   "id": "0671dac0",
   "metadata": {},
   "outputs": [
    {
     "data": {
      "text/plain": [
       "[0, 2, 4, 6, 8, 10, 12, 14, 16, 18]"
      ]
     },
     "execution_count": 9,
     "metadata": {},
     "output_type": "execute_result"
    }
   ],
   "source": [
    "h=[x for x in range(20) if x%2 == 0]\n",
    "h"
   ]
  },
  {
   "cell_type": "code",
   "execution_count": 14,
   "id": "2425cd71",
   "metadata": {},
   "outputs": [
    {
     "name": "stdout",
     "output_type": "stream",
     "text": [
      "[1, 2, 3, 4, 5, 6, 7, 8, 9, 10, 2, 4, 6, 8, 10, 12, 14, 16, 18, 20, 3, 6, 9, 12, 15, 18, 21, 24, 27, 30, 4, 8, 12, 16, 20, 24, 28, 32, 36, 40, 5, 10, 15, 20, 25, 30, 35, 40, 45, 50, 6, 12, 18, 24, 30, 36, 42, 48, 54, 60, 7, 14, 21, 28, 35, 42, 49, 56, 63, 70, 8, 16, 24, 32, 40, 48, 56, 64, 72, 80, 9, 18, 27, 36, 45, 54, 63, 72, 81, 90, 10, 20, 30, 40, 50, 60, 70, 80, 90, 100]\n"
     ]
    }
   ],
   "source": [
    "h = [x*y for x in range(1,11) for y in range(1,11)]\n",
    "print(h)"
   ]
  },
  {
   "cell_type": "code",
   "execution_count": 21,
   "id": "5446e168",
   "metadata": {},
   "outputs": [
    {
     "name": "stdout",
     "output_type": "stream",
     "text": [
      "[1, 1]\n",
      "[1, 2]\n",
      "[0, 0]\n",
      "[0, 0]\n"
     ]
    }
   ],
   "source": [
    "matrix=[[1,4,5,6],\n",
    "        [1,2,3,4]]\n",
    "transpose=[[0,0],[0,0],[0,0],[0,0]]\n",
    "for i in range(len(matrix)):\n",
    "    for j in range(len(matrix)):\n",
    "        matrix[i][j]=matrix[j][i]\n",
    "        transpose[i][j]=matrix[j][i]\n",
    "for r in transpose:\n",
    "    print(r)\n",
    "        "
   ]
  },
  {
   "cell_type": "code",
   "execution_count": 23,
   "id": "65206da1",
   "metadata": {},
   "outputs": [
    {
     "data": {
      "text/plain": [
       "{1: 'a', 2: 'b', 3: 'c', 4: 'd', 5: 'e', 6: 'f', 7: 'g'}"
      ]
     },
     "execution_count": 23,
     "metadata": {},
     "output_type": "execute_result"
    }
   ],
   "source": [
    "list1=[1,2,3,4,5,6,7]\n",
    "list2=['a','b','c','d','e','f','g']\n",
    "res={}\n",
    "for key in list1:\n",
    "    for value in list2:\n",
    "        res[key]=value\n",
    "        list2.remove(value)\n",
    "        break\n",
    "res"
   ]
  },
  {
   "cell_type": "code",
   "execution_count": 4,
   "id": "894ece52",
   "metadata": {},
   "outputs": [
    {
     "name": "stdout",
     "output_type": "stream",
     "text": [
      "Value of f(3) is : 35.0\n"
     ]
    }
   ],
   "source": [
    "# Python3 program for implementation\n",
    "# of Lagrange's Interpolation\n",
    "\n",
    "# To represent a data point corresponding to x and y = f(x)\n",
    "class Data:\n",
    "\tdef __init__(self, x, y):\n",
    "\t\tself.x = x\n",
    "\t\tself.y = y\n",
    "\n",
    "# function to interpolate the given data points\n",
    "# using Lagrange's formula\n",
    "# xi -> corresponds to the new data point\n",
    "# whose value is to be obtained\n",
    "# n -> represents the number of known data points\n",
    "def interpolate(f: list, xi: int, n: int) -> float:\n",
    "\n",
    "\t# Initialize result\n",
    "\tresult = 0.0\n",
    "\tfor i in range(n):\n",
    "\n",
    "\t\t# Compute individual terms of above formula\n",
    "\t\tterm = f[i].y\n",
    "\t\tfor j in range(n):\n",
    "\t\t\tif j != i:\n",
    "\t\t\t\tterm = term * (xi - f[j].x) / (f[i].x - f[j].x)\n",
    "\n",
    "\t\t# Add current term to result\n",
    "\t\tresult += term\n",
    "\n",
    "\treturn result\n",
    "\n",
    "# Driver Code\n",
    "if __name__ == \"__main__\":\n",
    "\n",
    "\t# creating an array of 4 known data points\n",
    "\tf = [Data(0, 2), Data(1, 3), Data(2, 12), Data(5, 147)]\n",
    "\n",
    "\t# Using the interpolate function to obtain a data point\n",
    "\t# corresponding to x=3\n",
    "\tprint(\"Value of f(3) is :\", interpolate(f, 3, 4))\n",
    "\n",
    "# This code is contributed by\n",
    "# sanjeev2552\n"
   ]
  },
  {
   "cell_type": "code",
   "execution_count": null,
   "id": "8c53aad7",
   "metadata": {},
   "outputs": [],
   "source": [
    "class Node:\n",
    "    def __init__(self,val):\n",
    "        self.Info = val\n",
    "        self.Next = None\n",
    "\n",
    "    def Print(self):\n",
    "        print(self.Info)\n",
    "        if (self.Next is not None):\n",
    "            self.Next.Print()\n",
    "\n",
    "class LinkedList:\n",
    "    def __init__(self, val):\n",
    "        self.Start = Node(val)\n",
    "        self.Next = Node(val)\n",
    "    def Print(self):\n",
    "        if(self.Start == None):\n",
    "            print(\"list is empty\")\n",
    "        else:\n",
    "            self.Start.Print()\n",
    "    def insertAtBegin(self, value):\n",
    "        if(self.Start == None):\n",
    "            self.Start = Node(value)\n",
    "        else:\n",
    "            temp = Node(value)\n",
    "            temp.next = self.Start\n",
    "            self.Start = temp      \n",
    "    def InsertatEnd (self, value): \n",
    "        if (self.Start is None):\n",
    "            self.Start = Node (value)\n",
    "        else:\n",
    "            ptr = self.Start \n",
    "            while (ptr.Next != None):\n",
    "                ptr=ptr.Next\n",
    "            ptr.Next=Node (value)\n",
    "\n",
    "    \n",
    "    def Count (self):\n",
    "        if (self.Start is None):\n",
    "             (\"List isEmpty\")\n",
    "        else:\n",
    "            ptr =self.Start\n",
    "            count = 1\n",
    "            while(ptr.Next != None): \n",
    "                ptr=ptr.Next\n",
    "                count + 1\n",
    "        return count\n",
    "    \n",
    "    \n",
    "    def InsertonPosition(self, Position, value):\n",
    "        if(Position==1) :\n",
    "            self.InsertatBegin(value)\n",
    "        elif (Position >1 and Position <= self.Count()+1):\n",
    "            ptr = self.Start\n",
    "            for i in range(1, Position - 1): \n",
    "                ptr=ptr.Next\n",
    "            New=Node(value)\n",
    "            New.Next=ptr.Next\n",
    "            ptr.Next=New\n",
    "        else:\n",
    "            print(\"Position Not Found In List\")\n",
    "         \n",
    "    def Search(self, value):\n",
    "        if(self.Start is None):\n",
    "            print(\"List is Empty\")\n",
    "    \n",
    "        else:\n",
    "            ptr= self.Start\n",
    "            Count = 1\n",
    "            while(ptr != None and ptr.Info != value):\n",
    "                ptr=ptr.Next\n",
    "                Count += 1\n",
    "    \n",
    "        if(ptr == None):\n",
    "            print (f\"Value (value) Not found is List\") \n",
    "        else:\n",
    "            print (f\"Value (ptr.Info) found on Position (Count)\")\n",
    "    \n",
    "    \n",
    "    def Search (self, value):\n",
    "        if(self.Start is None):\n",
    "            print(\"List is Empty\")\n",
    "        else:\n",
    "            ptr = self.Start\n",
    "            Count = 1\n",
    "            while (ptr != None and ptr. Info != value):\n",
    "                ptr = ptr.Next\n",
    "                Count += 1\n",
    "        if(ptr == None): \n",
    "            return -1\n",
    "        else:\n",
    "            return Count\n",
    "    \n",
    "    def InsertAfter (self, Find, value): \n",
    "        if(self.Start == None):\n",
    "            print(\"list is Empty\") \n",
    "        elif(self. Search (Find) >= 0):\n",
    "            self. InsertonPosition(self.Search(Find) + 1,value)\n",
    "        else:\n",
    "            print(\"Position Not Found\")\n",
    "    \n",
    "    \n",
    "    def InsertBefore (self, Find, value):\n",
    "        if(self.Start == None):\n",
    "            print(\"list is Empty\") \n",
    "        elif (self. Search (Find) >= 0):\n",
    "            self. InsertonPosition(self. Search (Find), value)\n",
    "        else:\n",
    "            print(\"Position Not Found\")\n",
    "    def ChangeValue (self, Find, value):\n",
    "        if (self.Start == None):\n",
    "            print(\"List is Empty\")\n",
    "        else:\n",
    "            ptr= self.Start\n",
    "            while (ptr != None and ptr.Info != Find):\n",
    "                ptr = ptr.Next\n",
    "            if(ptr == None):\n",
    "                print (f\"Value (Find) not found in List!\")\n",
    "            else:\n",
    "                ptr.Info=value\n",
    "                print(f\"Value {Find} has been changed with{ptr.Info}\")         \n",
    "                \n",
    "    def DeleteFromEnd (self): \n",
    "        if (self.Start is None):\n",
    "            print(\"List is Empty\") \n",
    "        elif (self. Start.Next is None):\n",
    "            self. Start= None\n",
    "        else:\n",
    "            ptr=self.Start;\n",
    "            while(ptr.Next.Next is not None): \n",
    "                ptr=ptr.Next\n",
    "            ptr.Next=None        \n",
    "    def DeleteFromBegin (self):\n",
    "        if(self.Start is None):\n",
    "            print(\"List is Already Empty\")\n",
    "        else:\n",
    "            self.Start=self.Start.Next\n",
    "\n",
    "    def DeleteFromPosition(self, Position):\n",
    "        if(self.Start == None): \n",
    "            print(\"List is Already Empty\")\n",
    "        elif(Position == 1): \n",
    "             self.Start = self.Start.Next\n",
    "        elif(Position > 8 and Position <= self.Count()):\n",
    "            ptr = self.Start\n",
    "            for i in range (1, Position - 1): \n",
    "                ptr=ptr.Next\n",
    "            ptr.Next = ptr. Next.Next\n",
    "        else:\n",
    "            print(\"Position Not Find\")\n",
    "            \n",
    "            \n",
    "\n",
    "mylist = LinkedList(21)\n",
    "mylist = LinkedList(24)\n",
    "mylist.Next=LinkedList(23)\n",
    "mylist.Next.Next=Node(25)\n",
    "mylist.Print()"
   ]
  }
 ],
 "metadata": {
  "kernelspec": {
   "display_name": "Python 3",
   "language": "python",
   "name": "python3"
  },
  "language_info": {
   "codemirror_mode": {
    "name": "ipython",
    "version": 3
   },
   "file_extension": ".py",
   "mimetype": "text/x-python",
   "name": "python",
   "nbconvert_exporter": "python",
   "pygments_lexer": "ipython3",
   "version": "3.8.8"
  }
 },
 "nbformat": 4,
 "nbformat_minor": 5
}
