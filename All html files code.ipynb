{
 "cells": [
  {
   "cell_type": "code",
   "execution_count": 1,
   "id": "dff4d9af",
   "metadata": {},
   "outputs": [
    {
     "name": "stdout",
     "output_type": "stream",
     "text": [
      "Requirement already satisfied: pandas_profiling in e:\\anaconda\\lib\\site-packages (3.1.0)\n",
      "Requirement already satisfied: numpy>=1.16.0 in e:\\anaconda\\lib\\site-packages (from pandas_profiling) (1.22.4)\n",
      "Requirement already satisfied: tangled-up-in-unicode==0.1.0 in e:\\anaconda\\lib\\site-packages (from pandas_profiling) (0.1.0)\n",
      "Requirement already satisfied: missingno>=0.4.2 in e:\\anaconda\\lib\\site-packages (from pandas_profiling) (0.4.2)\n",
      "Requirement already satisfied: matplotlib>=3.2.0 in e:\\anaconda\\lib\\site-packages (from pandas_profiling) (3.3.4)\n",
      "Requirement already satisfied: scipy>=1.4.1 in e:\\anaconda\\lib\\site-packages (from pandas_profiling) (1.5.4)\n",
      "Requirement already satisfied: multimethod>=1.4 in e:\\anaconda\\lib\\site-packages (from pandas_profiling) (1.7)\n",
      "Requirement already satisfied: PyYAML>=5.0.0 in e:\\anaconda\\lib\\site-packages (from pandas_profiling) (5.4.1)\n",
      "Requirement already satisfied: pandas!=1.0.0,!=1.0.1,!=1.0.2,!=1.1.0,>=0.25.3 in e:\\anaconda\\lib\\site-packages (from pandas_profiling) (1.2.4)\n",
      "Requirement already satisfied: markupsafe~=2.0.1 in e:\\anaconda\\lib\\site-packages (from pandas_profiling) (2.0.1)\n",
      "Requirement already satisfied: jinja2>=2.11.1 in e:\\anaconda\\lib\\site-packages (from pandas_profiling) (2.11.3)\n",
      "Requirement already satisfied: phik>=0.11.1 in e:\\anaconda\\lib\\site-packages (from pandas_profiling) (0.12.0)\n",
      "Requirement already satisfied: visions[type_image_path]==0.7.4 in e:\\anaconda\\lib\\site-packages (from pandas_profiling) (0.7.4)\n",
      "Requirement already satisfied: tqdm>=4.48.2 in e:\\anaconda\\lib\\site-packages (from pandas_profiling) (4.59.0)\n",
      "Requirement already satisfied: seaborn>=0.10.1 in e:\\anaconda\\lib\\site-packages (from pandas_profiling) (0.11.1)\n",
      "Requirement already satisfied: requests>=2.24.0 in e:\\anaconda\\lib\\site-packages (from pandas_profiling) (2.25.1)\n",
      "Requirement already satisfied: htmlmin>=0.1.12 in e:\\anaconda\\lib\\site-packages (from pandas_profiling) (0.1.12)\n",
      "Requirement already satisfied: joblib~=1.0.1 in e:\\anaconda\\lib\\site-packages (from pandas_profiling) (1.0.1)\n",
      "Requirement already satisfied: pydantic>=1.8.1 in e:\\anaconda\\lib\\site-packages (from pandas_profiling) (1.9.0)\n",
      "Requirement already satisfied: networkx>=2.4 in e:\\anaconda\\lib\\site-packages (from visions[type_image_path]==0.7.4->pandas_profiling) (2.5)\n",
      "Requirement already satisfied: attrs>=19.3.0 in e:\\anaconda\\lib\\site-packages (from visions[type_image_path]==0.7.4->pandas_profiling) (20.3.0)\n",
      "Requirement already satisfied: Pillow in e:\\anaconda\\lib\\site-packages (from visions[type_image_path]==0.7.4->pandas_profiling) (8.2.0)\n",
      "Requirement already satisfied: imagehash in e:\\anaconda\\lib\\site-packages (from visions[type_image_path]==0.7.4->pandas_profiling) (4.2.1)\n",
      "Requirement already satisfied: kiwisolver>=1.0.1 in e:\\anaconda\\lib\\site-packages (from matplotlib>=3.2.0->pandas_profiling) (1.3.1)\n",
      "Requirement already satisfied: cycler>=0.10 in e:\\anaconda\\lib\\site-packages (from matplotlib>=3.2.0->pandas_profiling) (0.10.0)\n",
      "Requirement already satisfied: pyparsing!=2.0.4,!=2.1.2,!=2.1.6,>=2.0.3 in e:\\anaconda\\lib\\site-packages (from matplotlib>=3.2.0->pandas_profiling) (2.4.7)\n",
      "Requirement already satisfied: python-dateutil>=2.1 in e:\\anaconda\\lib\\site-packages (from matplotlib>=3.2.0->pandas_profiling) (2.8.1)\n",
      "Requirement already satisfied: six in e:\\anaconda\\lib\\site-packages (from cycler>=0.10->matplotlib>=3.2.0->pandas_profiling) (1.15.0)\n",
      "Requirement already satisfied: decorator>=4.3.0 in e:\\anaconda\\lib\\site-packages (from networkx>=2.4->visions[type_image_path]==0.7.4->pandas_profiling) (5.0.6)\n",
      "Requirement already satisfied: pytz>=2017.3 in e:\\anaconda\\lib\\site-packages (from pandas!=1.0.0,!=1.0.1,!=1.0.2,!=1.1.0,>=0.25.3->pandas_profiling) (2021.1)\n",
      "Requirement already satisfied: typing-extensions>=3.7.4.3 in e:\\anaconda\\lib\\site-packages (from pydantic>=1.8.1->pandas_profiling) (3.7.4.3)\n",
      "Requirement already satisfied: chardet<5,>=3.0.2 in e:\\anaconda\\lib\\site-packages (from requests>=2.24.0->pandas_profiling) (4.0.0)\n",
      "Requirement already satisfied: urllib3<1.27,>=1.21.1 in e:\\anaconda\\lib\\site-packages (from requests>=2.24.0->pandas_profiling) (1.26.4)\n",
      "Requirement already satisfied: idna<3,>=2.5 in e:\\anaconda\\lib\\site-packages (from requests>=2.24.0->pandas_profiling) (2.10)\n",
      "Requirement already satisfied: certifi>=2017.4.17 in e:\\anaconda\\lib\\site-packages (from requests>=2.24.0->pandas_profiling) (2020.12.5)\n",
      "Requirement already satisfied: PyWavelets in e:\\anaconda\\lib\\site-packages (from imagehash->visions[type_image_path]==0.7.4->pandas_profiling) (1.1.1)\n"
     ]
    }
   ],
   "source": [
    "import pandas as pd\n",
    "!pip install pandas_profiling"
   ]
  },
  {
   "cell_type": "code",
   "execution_count": 2,
   "id": "cb33a901",
   "metadata": {},
   "outputs": [],
   "source": [
    "boston=pd.read_csv(r\"E:\\kiet files\\4 semister\\csv files\\olympics/athlete_events.csv\")"
   ]
  },
  {
   "cell_type": "code",
   "execution_count": 4,
   "id": "26f8762c",
   "metadata": {},
   "outputs": [],
   "source": [
    "from pandas_profiling import ProfileReport\n",
    "from pandas_profiling import serialize_report"
   ]
  },
  {
   "cell_type": "code",
   "execution_count": 5,
   "id": "39e6981c",
   "metadata": {},
   "outputs": [
    {
     "data": {
      "application/vnd.jupyter.widget-view+json": {
       "model_id": "feed7b78de5e45c6b6607f8dd67d8cab",
       "version_major": 2,
       "version_minor": 0
      },
      "text/plain": [
       "Summarize dataset:   0%|          | 0/5 [00:00<?, ?it/s]"
      ]
     },
     "metadata": {},
     "output_type": "display_data"
    },
    {
     "data": {
      "application/vnd.jupyter.widget-view+json": {
       "model_id": "c3daf26239de4ebe9426dc5b6e814025",
       "version_major": 2,
       "version_minor": 0
      },
      "text/plain": [
       "Generate report structure:   0%|          | 0/1 [00:00<?, ?it/s]"
      ]
     },
     "metadata": {},
     "output_type": "display_data"
    },
    {
     "data": {
      "application/vnd.jupyter.widget-view+json": {
       "model_id": "629ab2ed04bc413b984a97c349b71145",
       "version_major": 2,
       "version_minor": 0
      },
      "text/plain": [
       "Render HTML:   0%|          | 0/1 [00:00<?, ?it/s]"
      ]
     },
     "metadata": {},
     "output_type": "display_data"
    },
    {
     "data": {
      "application/vnd.jupyter.widget-view+json": {
       "model_id": "ae6f12e2c35c47e096e35ea3707e6f4e",
       "version_major": 2,
       "version_minor": 0
      },
      "text/plain": [
       "Export report to file:   0%|          | 0/1 [00:00<?, ?it/s]"
      ]
     },
     "metadata": {},
     "output_type": "display_data"
    }
   ],
   "source": [
    "profile= ProfileReport(boston)\n",
    "profile.to_file(output_file=\"olympics.html\")"
   ]
  },
  {
   "cell_type": "code",
   "execution_count": null,
   "id": "e12dd26f",
   "metadata": {},
   "outputs": [],
   "source": []
  },
  {
   "cell_type": "code",
   "execution_count": 6,
   "id": "252fe308",
   "metadata": {},
   "outputs": [
    {
     "name": "stdout",
     "output_type": "stream",
     "text": [
      "Requirement already satisfied: sweetviz in e:\\anaconda\\lib\\site-packages (2.1.3)\n",
      "Requirement already satisfied: importlib-resources>=1.2.0 in e:\\anaconda\\lib\\site-packages (from sweetviz) (5.6.0)\n",
      "Requirement already satisfied: pandas!=1.0.0,!=1.0.1,!=1.0.2,>=0.25.3 in e:\\anaconda\\lib\\site-packages (from sweetviz) (1.2.4)\n",
      "Requirement already satisfied: jinja2>=2.11.1 in e:\\anaconda\\lib\\site-packages (from sweetviz) (2.11.3)\n",
      "Requirement already satisfied: matplotlib>=3.1.3 in e:\\anaconda\\lib\\site-packages (from sweetviz) (3.3.4)\n",
      "Requirement already satisfied: numpy>=1.16.0 in e:\\anaconda\\lib\\site-packages (from sweetviz) (1.22.4)\n",
      "Requirement already satisfied: scipy>=1.3.2 in e:\\anaconda\\lib\\site-packages (from sweetviz) (1.5.4)\n",
      "Requirement already satisfied: tqdm>=4.43.0 in e:\\anaconda\\lib\\site-packages (from sweetviz) (4.59.0)\n",
      "Requirement already satisfied: zipp>=3.1.0 in e:\\anaconda\\lib\\site-packages (from importlib-resources>=1.2.0->sweetviz) (3.4.1)\n",
      "Requirement already satisfied: MarkupSafe>=0.23 in e:\\anaconda\\lib\\site-packages (from jinja2>=2.11.1->sweetviz) (2.0.1)\n",
      "Requirement already satisfied: pyparsing!=2.0.4,!=2.1.2,!=2.1.6,>=2.0.3 in e:\\anaconda\\lib\\site-packages (from matplotlib>=3.1.3->sweetviz) (2.4.7)\n",
      "Requirement already satisfied: python-dateutil>=2.1 in e:\\anaconda\\lib\\site-packages (from matplotlib>=3.1.3->sweetviz) (2.8.1)\n",
      "Requirement already satisfied: pillow>=6.2.0 in e:\\anaconda\\lib\\site-packages (from matplotlib>=3.1.3->sweetviz) (8.2.0)\n",
      "Requirement already satisfied: cycler>=0.10 in e:\\anaconda\\lib\\site-packages (from matplotlib>=3.1.3->sweetviz) (0.10.0)\n",
      "Requirement already satisfied: kiwisolver>=1.0.1 in e:\\anaconda\\lib\\site-packages (from matplotlib>=3.1.3->sweetviz) (1.3.1)\n",
      "Requirement already satisfied: six in e:\\anaconda\\lib\\site-packages (from cycler>=0.10->matplotlib>=3.1.3->sweetviz) (1.15.0)\n",
      "Requirement already satisfied: pytz>=2017.3 in e:\\anaconda\\lib\\site-packages (from pandas!=1.0.0,!=1.0.1,!=1.0.2,>=0.25.3->sweetviz) (2021.1)\n"
     ]
    }
   ],
   "source": [
    "!pip install sweetviz\n",
    "import sweetviz as sv\n"
   ]
  },
  {
   "cell_type": "code",
   "execution_count": 7,
   "id": "c9feff9d",
   "metadata": {},
   "outputs": [
    {
     "data": {
      "application/vnd.jupyter.widget-view+json": {
       "model_id": "d9f92c1c14fb47098f149895944d5e8a",
       "version_major": 2,
       "version_minor": 0
      },
      "text/plain": [
       "                                             |                                             | [  0%]   00:00 ->…"
      ]
     },
     "metadata": {},
     "output_type": "display_data"
    }
   ],
   "source": [
    "repor=sv.analyze(boston)"
   ]
  },
  {
   "cell_type": "code",
   "execution_count": 8,
   "id": "b23ba42b",
   "metadata": {},
   "outputs": [
    {
     "name": "stdout",
     "output_type": "stream",
     "text": [
      "Report SWEETVIZ_REPORT.html was generated! NOTEBOOK/COLAB USERS: the web browser MAY not pop up, regardless, the report IS saved in your notebook/colab files.\n"
     ]
    }
   ],
   "source": [
    "repor.show_html()"
   ]
  },
  {
   "cell_type": "code",
   "execution_count": null,
   "id": "7615beea",
   "metadata": {},
   "outputs": [],
   "source": []
  },
  {
   "cell_type": "code",
   "execution_count": 9,
   "id": "5e1a6bf9",
   "metadata": {},
   "outputs": [
    {
     "name": "stdout",
     "output_type": "stream",
     "text": [
      "Requirement already satisfied: dtale in e:\\anaconda\\lib\\site-packages (2.2.0)\n",
      "Requirement already satisfied: networkx in e:\\anaconda\\lib\\site-packages (from dtale) (2.5)\n",
      "Requirement already satisfied: strsimpy in e:\\anaconda\\lib\\site-packages (from dtale) (0.2.1)\n",
      "Requirement already satisfied: ppscore in e:\\anaconda\\lib\\site-packages (from dtale) (1.2.0)\n",
      "Requirement already satisfied: scipy in e:\\anaconda\\lib\\site-packages (from dtale) (1.5.4)\n",
      "Requirement already satisfied: dash-bootstrap-components in e:\\anaconda\\lib\\site-packages (from dtale) (1.0.3)\n",
      "Requirement already satisfied: kaleido in e:\\anaconda\\lib\\site-packages (from dtale) (0.2.1)\n",
      "Requirement already satisfied: seaborn in e:\\anaconda\\lib\\site-packages (from dtale) (0.11.1)\n",
      "Requirement already satisfied: pandas in e:\\anaconda\\lib\\site-packages (from dtale) (1.2.4)\n",
      "Collecting scikit-learn==0.24.2\n",
      "  Using cached scikit_learn-0.24.2-cp38-cp38-win_amd64.whl (6.9 MB)\n",
      "Requirement already satisfied: six in e:\\anaconda\\lib\\site-packages (from dtale) (1.15.0)\n",
      "Requirement already satisfied: matplotlib in e:\\anaconda\\lib\\site-packages (from dtale) (3.3.4)\n",
      "Requirement already satisfied: squarify in e:\\anaconda\\lib\\site-packages (from dtale) (0.4.3)\n",
      "Requirement already satisfied: Flask in e:\\anaconda\\lib\\site-packages (from dtale) (1.1.2)\n",
      "Requirement already satisfied: future>=0.14.0 in e:\\anaconda\\lib\\site-packages (from dtale) (0.18.2)\n",
      "Requirement already satisfied: xarray in e:\\anaconda\\lib\\site-packages (from dtale) (2022.3.0)\n",
      "Requirement already satisfied: numpy in e:\\anaconda\\lib\\site-packages (from dtale) (1.22.4)\n",
      "Requirement already satisfied: itsdangerous in e:\\anaconda\\lib\\site-packages (from dtale) (1.1.0)\n",
      "Requirement already satisfied: openpyxl in e:\\anaconda\\lib\\site-packages (from dtale) (3.0.7)\n",
      "Requirement already satisfied: Flask-Compress in e:\\anaconda\\lib\\site-packages (from dtale) (1.11)\n",
      "Requirement already satisfied: statsmodels in e:\\anaconda\\lib\\site-packages (from dtale) (0.12.2)\n",
      "Requirement already satisfied: dash-colorscales in e:\\anaconda\\lib\\site-packages (from dtale) (0.0.4)\n",
      "Requirement already satisfied: missingno<=0.4.2 in e:\\anaconda\\lib\\site-packages (from dtale) (0.4.2)\n",
      "Requirement already satisfied: cycler in e:\\anaconda\\lib\\site-packages (from dtale) (0.10.0)\n",
      "Requirement already satisfied: dash>=2.0.0 in e:\\anaconda\\lib\\site-packages (from dtale) (2.3.1)\n",
      "Requirement already satisfied: flask-ngrok in e:\\anaconda\\lib\\site-packages (from dtale) (0.0.25)\n",
      "Requirement already satisfied: plotly>=5.0.0 in e:\\anaconda\\lib\\site-packages (from dtale) (5.6.0)\n",
      "Requirement already satisfied: requests in e:\\anaconda\\lib\\site-packages (from dtale) (2.25.1)\n",
      "Requirement already satisfied: xlrd in e:\\anaconda\\lib\\site-packages (from dtale) (2.0.1)\n",
      "Requirement already satisfied: dash-daq in e:\\anaconda\\lib\\site-packages (from dtale) (0.5.0)\n",
      "Requirement already satisfied: lz4 in e:\\anaconda\\lib\\site-packages (from dtale) (4.0.0)\n",
      "Requirement already satisfied: et-xmlfile in e:\\anaconda\\lib\\site-packages (from dtale) (1.0.1)\n",
      "Requirement already satisfied: joblib>=0.11 in e:\\anaconda\\lib\\site-packages (from scikit-learn==0.24.2->dtale) (1.0.1)\n",
      "Requirement already satisfied: threadpoolctl>=2.0.0 in e:\\anaconda\\lib\\site-packages (from scikit-learn==0.24.2->dtale) (2.1.0)\n",
      "Requirement already satisfied: dash-table==5.0.0 in e:\\anaconda\\lib\\site-packages (from dash>=2.0.0->dtale) (5.0.0)\n",
      "Requirement already satisfied: dash-html-components==2.0.0 in e:\\anaconda\\lib\\site-packages (from dash>=2.0.0->dtale) (2.0.0)\n",
      "Requirement already satisfied: dash-core-components==2.0.0 in e:\\anaconda\\lib\\site-packages (from dash>=2.0.0->dtale) (2.0.0)\n",
      "Requirement already satisfied: click>=5.1 in e:\\anaconda\\lib\\site-packages (from Flask->dtale) (7.1.2)\n",
      "Requirement already satisfied: Jinja2>=2.10.1 in e:\\anaconda\\lib\\site-packages (from Flask->dtale) (2.11.3)\n",
      "Requirement already satisfied: Werkzeug>=0.15 in e:\\anaconda\\lib\\site-packages (from Flask->dtale) (1.0.1)\n",
      "Requirement already satisfied: MarkupSafe>=0.23 in e:\\anaconda\\lib\\site-packages (from Jinja2>=2.10.1->Flask->dtale) (2.0.1)\n",
      "Requirement already satisfied: tenacity>=6.2.0 in e:\\anaconda\\lib\\site-packages (from plotly>=5.0.0->dtale) (8.0.1)"
     ]
    },
    {
     "name": "stderr",
     "output_type": "stream",
     "text": [
      "ERROR: pip's dependency resolver does not currently take into account all the packages that are installed. This behaviour is the source of the following dependency conflicts.\n",
      "yellowbrick 1.3.post1 requires numpy<1.20,>=1.16.0, but you have numpy 1.22.4 which is incompatible.\n",
      "pycaret 2.3.10 requires scikit-learn==0.23.2, but you have scikit-learn 0.24.2 which is incompatible.\n"
     ]
    },
    {
     "name": "stdout",
     "output_type": "stream",
     "text": [
      "\n",
      "Requirement already satisfied: brotli in e:\\anaconda\\lib\\site-packages (from Flask-Compress->dtale) (1.0.9)\n",
      "Requirement already satisfied: kiwisolver>=1.0.1 in e:\\anaconda\\lib\\site-packages (from matplotlib->dtale) (1.3.1)\n",
      "Requirement already satisfied: pyparsing!=2.0.4,!=2.1.2,!=2.1.6,>=2.0.3 in e:\\anaconda\\lib\\site-packages (from matplotlib->dtale) (2.4.7)\n",
      "Requirement already satisfied: python-dateutil>=2.1 in e:\\anaconda\\lib\\site-packages (from matplotlib->dtale) (2.8.1)\n",
      "Requirement already satisfied: pillow>=6.2.0 in e:\\anaconda\\lib\\site-packages (from matplotlib->dtale) (8.2.0)\n",
      "Requirement already satisfied: decorator>=4.3.0 in e:\\anaconda\\lib\\site-packages (from networkx->dtale) (5.0.6)\n",
      "Requirement already satisfied: pytz>=2017.3 in e:\\anaconda\\lib\\site-packages (from pandas->dtale) (2021.1)\n",
      "Requirement already satisfied: urllib3<1.27,>=1.21.1 in e:\\anaconda\\lib\\site-packages (from requests->dtale) (1.26.4)\n",
      "Requirement already satisfied: certifi>=2017.4.17 in e:\\anaconda\\lib\\site-packages (from requests->dtale) (2020.12.5)\n",
      "Requirement already satisfied: idna<3,>=2.5 in e:\\anaconda\\lib\\site-packages (from requests->dtale) (2.10)\n",
      "Requirement already satisfied: chardet<5,>=3.0.2 in e:\\anaconda\\lib\\site-packages (from requests->dtale) (4.0.0)\n",
      "Requirement already satisfied: patsy>=0.5 in e:\\anaconda\\lib\\site-packages (from statsmodels->dtale) (0.5.1)\n",
      "Requirement already satisfied: packaging>=20.0 in e:\\anaconda\\lib\\site-packages (from xarray->dtale) (20.9)\n",
      "Installing collected packages: scikit-learn\n",
      "  Attempting uninstall: scikit-learn\n",
      "    Found existing installation: scikit-learn 0.23.2\n",
      "    Uninstalling scikit-learn-0.23.2:\n",
      "      Successfully uninstalled scikit-learn-0.23.2\n",
      "Successfully installed scikit-learn-0.24.2\n"
     ]
    }
   ],
   "source": [
    "!pip install dtale"
   ]
  },
  {
   "cell_type": "code",
   "execution_count": 14,
   "id": "e153677a",
   "metadata": {},
   "outputs": [],
   "source": [
    "import dtale \n",
    "\n",
    "d=dtale.show(boston)"
   ]
  },
  {
   "cell_type": "code",
   "execution_count": null,
   "id": "8996120b",
   "metadata": {},
   "outputs": [],
   "source": []
  },
  {
   "cell_type": "code",
   "execution_count": 15,
   "id": "7ed0e4cc",
   "metadata": {},
   "outputs": [
    {
     "data": {
      "text/html": [
       "\n",
       "        <iframe\n",
       "            width=\"100%\"\n",
       "            height=\"475\"\n",
       "            src=\"http://DESKTOP-8INOQC6:40000/dtale/iframe/1\"\n",
       "            frameborder=\"0\"\n",
       "            allowfullscreen\n",
       "        ></iframe>\n",
       "        "
      ],
      "text/plain": [
       "<IPython.lib.display.IFrame at 0x183d9b3d0d0>"
      ]
     },
     "metadata": {},
     "output_type": "display_data"
    },
    {
     "data": {
      "text/plain": []
     },
     "execution_count": 15,
     "metadata": {},
     "output_type": "execute_result"
    }
   ],
   "source": [
    "d"
   ]
  },
  {
   "cell_type": "code",
   "execution_count": null,
   "id": "6b0f8122",
   "metadata": {},
   "outputs": [],
   "source": []
  }
 ],
 "metadata": {
  "kernelspec": {
   "display_name": "Python 3",
   "language": "python",
   "name": "python3"
  },
  "language_info": {
   "codemirror_mode": {
    "name": "ipython",
    "version": 3
   },
   "file_extension": ".py",
   "mimetype": "text/x-python",
   "name": "python",
   "nbconvert_exporter": "python",
   "pygments_lexer": "ipython3",
   "version": "3.8.8"
  }
 },
 "nbformat": 4,
 "nbformat_minor": 5
}
