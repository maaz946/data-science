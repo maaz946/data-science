{
 "cells": [
  {
   "cell_type": "markdown",
   "id": "2d64aaad",
   "metadata": {},
   "source": [
    "# THIS IS PYTHON TUTORIAL"
   ]
  },
  {
   "cell_type": "markdown",
   "id": "36caaf83",
   "metadata": {},
   "source": [
    "This is our first program in python "
   ]
  },
  {
   "cell_type": "code",
   "execution_count": 1,
   "id": "429ec67c",
   "metadata": {},
   "outputs": [
    {
     "name": "stdout",
     "output_type": "stream",
     "text": [
      "hello world\n"
     ]
    }
   ],
   "source": [
    "print(\"hello world\")"
   ]
  },
  {
   "cell_type": "code",
   "execution_count": 2,
   "id": "aca7bf59",
   "metadata": {},
   "outputs": [
    {
     "ename": "SyntaxError",
     "evalue": "invalid syntax (<ipython-input-2-0d5d1433e895>, line 1)",
     "output_type": "error",
     "traceback": [
      "\u001b[1;36m  File \u001b[1;32m\"<ipython-input-2-0d5d1433e895>\"\u001b[1;36m, line \u001b[1;32m1\u001b[0m\n\u001b[1;33m    $a=b+c$\u001b[0m\n\u001b[1;37m    ^\u001b[0m\n\u001b[1;31mSyntaxError\u001b[0m\u001b[1;31m:\u001b[0m invalid syntax\n"
     ]
    }
   ],
   "source": [
    "$a=b+c$"
   ]
  },
  {
   "cell_type": "markdown",
   "id": "97a5ab92",
   "metadata": {},
   "source": [
    "$a=b+c$"
   ]
  },
  {
   "cell_type": "markdown",
   "id": "823be232",
   "metadata": {},
   "source": [
    "# Variables"
   ]
  },
  {
   "cell_type": "code",
   "execution_count": 3,
   "id": "f671f2f5",
   "metadata": {},
   "outputs": [],
   "source": [
    "x=3"
   ]
  },
  {
   "cell_type": "code",
   "execution_count": 4,
   "id": "355ae659",
   "metadata": {},
   "outputs": [
    {
     "name": "stdout",
     "output_type": "stream",
     "text": [
      "Variable   Type    Data/Info\n",
      "----------------------------\n",
      "x          int     3\n"
     ]
    }
   ],
   "source": [
    "%whos"
   ]
  },
  {
   "cell_type": "code",
   "execution_count": 5,
   "id": "818b79ae",
   "metadata": {},
   "outputs": [
    {
     "name": "stdout",
     "output_type": "stream",
     "text": [
      "<class 'int'>\n"
     ]
    }
   ],
   "source": [
    "print(type(x))"
   ]
  },
  {
   "cell_type": "code",
   "execution_count": 6,
   "id": "fb4cefc2",
   "metadata": {},
   "outputs": [],
   "source": [
    "x=5.7"
   ]
  },
  {
   "cell_type": "code",
   "execution_count": 7,
   "id": "f2790bdd",
   "metadata": {},
   "outputs": [
    {
     "name": "stdout",
     "output_type": "stream",
     "text": [
      "Variable   Type     Data/Info\n",
      "-----------------------------\n",
      "x          float    5.7\n"
     ]
    }
   ],
   "source": [
    "%whos"
   ]
  },
  {
   "cell_type": "code",
   "execution_count": 8,
   "id": "1dbcfbe2",
   "metadata": {},
   "outputs": [],
   "source": [
    "abcd=56.3"
   ]
  },
  {
   "cell_type": "code",
   "execution_count": 9,
   "id": "78ed6e13",
   "metadata": {},
   "outputs": [
    {
     "name": "stdout",
     "output_type": "stream",
     "text": [
      "Variable   Type     Data/Info\n",
      "-----------------------------\n",
      "abcd       float    56.3\n",
      "x          float    5.7\n"
     ]
    }
   ],
   "source": [
    "%whos"
   ]
  },
  {
   "cell_type": "code",
   "execution_count": 10,
   "id": "549a1c80",
   "metadata": {},
   "outputs": [],
   "source": [
    "a,b,c,d,e,f =3,5,6,0,7.5,-3"
   ]
  },
  {
   "cell_type": "code",
   "execution_count": 11,
   "id": "17d1e261",
   "metadata": {},
   "outputs": [
    {
     "name": "stdout",
     "output_type": "stream",
     "text": [
      "Variable   Type     Data/Info\n",
      "-----------------------------\n",
      "a          int      3\n",
      "abcd       float    56.3\n",
      "b          int      5\n",
      "c          int      6\n",
      "d          int      0\n",
      "e          float    7.5\n",
      "f          int      -3\n",
      "x          float    5.7\n"
     ]
    }
   ],
   "source": [
    "%whos"
   ]
  },
  {
   "cell_type": "code",
   "execution_count": 12,
   "id": "e0c7000d",
   "metadata": {},
   "outputs": [],
   "source": [
    "del abcd"
   ]
  },
  {
   "cell_type": "code",
   "execution_count": 13,
   "id": "5f0cdb88",
   "metadata": {},
   "outputs": [
    {
     "name": "stdout",
     "output_type": "stream",
     "text": [
      "Variable   Type     Data/Info\n",
      "-----------------------------\n",
      "a          int      3\n",
      "b          int      5\n",
      "c          int      6\n",
      "d          int      0\n",
      "e          float    7.5\n",
      "f          int      -3\n",
      "x          float    5.7\n"
     ]
    }
   ],
   "source": [
    "%whos"
   ]
  },
  {
   "cell_type": "code",
   "execution_count": 14,
   "id": "16d5364a",
   "metadata": {},
   "outputs": [
    {
     "ename": "NameError",
     "evalue": "name 'abcd' is not defined",
     "output_type": "error",
     "traceback": [
      "\u001b[1;31m---------------------------------------------------------------------------\u001b[0m",
      "\u001b[1;31mNameError\u001b[0m                                 Traceback (most recent call last)",
      "\u001b[1;32m<ipython-input-14-ce1394b9d4d9>\u001b[0m in \u001b[0;36m<module>\u001b[1;34m\u001b[0m\n\u001b[1;32m----> 1\u001b[1;33m \u001b[0mprint\u001b[0m\u001b[1;33m(\u001b[0m\u001b[0mabcd\u001b[0m\u001b[1;33m)\u001b[0m\u001b[1;33m\u001b[0m\u001b[1;33m\u001b[0m\u001b[0m\n\u001b[0m",
      "\u001b[1;31mNameError\u001b[0m: name 'abcd' is not defined"
     ]
    }
   ],
   "source": [
    "print(abcd)"
   ]
  },
  {
   "cell_type": "code",
   "execution_count": 15,
   "id": "aa74425f",
   "metadata": {},
   "outputs": [],
   "source": [
    "c=2+4j"
   ]
  },
  {
   "cell_type": "code",
   "execution_count": 16,
   "id": "475472c0",
   "metadata": {},
   "outputs": [
    {
     "name": "stdout",
     "output_type": "stream",
     "text": [
      "<class 'complex'>\n"
     ]
    }
   ],
   "source": [
    "print(type(c))"
   ]
  },
  {
   "cell_type": "code",
   "execution_count": 17,
   "id": "bf7c4248",
   "metadata": {},
   "outputs": [],
   "source": [
    "s=\"Hello world how\""
   ]
  },
  {
   "cell_type": "code",
   "execution_count": 18,
   "id": "d2ea1b95",
   "metadata": {},
   "outputs": [
    {
     "name": "stdout",
     "output_type": "stream",
     "text": [
      "<class 'str'>\n"
     ]
    }
   ],
   "source": [
    "print(type(s))"
   ]
  },
  {
   "cell_type": "markdown",
   "id": "a7a2f222",
   "metadata": {},
   "source": [
    "# Operators"
   ]
  },
  {
   "cell_type": "code",
   "execution_count": 19,
   "id": "c45b9d98",
   "metadata": {},
   "outputs": [
    {
     "name": "stdout",
     "output_type": "stream",
     "text": [
      "Variable   Type       Data/Info\n",
      "-------------------------------\n",
      "a          int        3\n",
      "b          int        5\n",
      "c          complex    (2+4j)\n",
      "d          int        0\n",
      "e          float      7.5\n",
      "f          int        -3\n",
      "s          str        Hello world how\n",
      "x          float      5.7\n"
     ]
    }
   ],
   "source": [
    "%whos"
   ]
  },
  {
   "cell_type": "code",
   "execution_count": 20,
   "id": "39301e9d",
   "metadata": {},
   "outputs": [],
   "source": [
    "sumofAandb =a+b"
   ]
  },
  {
   "cell_type": "code",
   "execution_count": 21,
   "id": "7d758113",
   "metadata": {},
   "outputs": [
    {
     "name": "stdout",
     "output_type": "stream",
     "text": [
      "8\n"
     ]
    }
   ],
   "source": [
    "print(sumofAandb)"
   ]
  },
  {
   "cell_type": "code",
   "execution_count": 22,
   "id": "5268e8e6",
   "metadata": {},
   "outputs": [
    {
     "name": "stdout",
     "output_type": "stream",
     "text": [
      "<class 'int'>\n"
     ]
    }
   ],
   "source": [
    "print(type(sumofAandb))"
   ]
  },
  {
   "cell_type": "code",
   "execution_count": 23,
   "id": "c37d5b00",
   "metadata": {},
   "outputs": [
    {
     "data": {
      "text/plain": [
       "float"
      ]
     },
     "execution_count": 23,
     "metadata": {},
     "output_type": "execute_result"
    }
   ],
   "source": [
    "type(a+e)"
   ]
  },
  {
   "cell_type": "code",
   "execution_count": 24,
   "id": "d5b1feae",
   "metadata": {},
   "outputs": [],
   "source": [
    "v = ((a+e)**5)/3"
   ]
  },
  {
   "cell_type": "code",
   "execution_count": 25,
   "id": "96179201",
   "metadata": {},
   "outputs": [
    {
     "name": "stdout",
     "output_type": "stream",
     "text": [
      "42542.71875\n"
     ]
    }
   ],
   "source": [
    "print(v)"
   ]
  },
  {
   "cell_type": "code",
   "execution_count": 26,
   "id": "3f83bce7",
   "metadata": {},
   "outputs": [],
   "source": [
    "s1=\"hello\""
   ]
  },
  {
   "cell_type": "code",
   "execution_count": 27,
   "id": "fa8384b7",
   "metadata": {},
   "outputs": [],
   "source": [
    "s2=\"world\""
   ]
  },
  {
   "cell_type": "code",
   "execution_count": 28,
   "id": "f1ae9398",
   "metadata": {},
   "outputs": [],
   "source": [
    "s=s1+s2"
   ]
  },
  {
   "cell_type": "code",
   "execution_count": 29,
   "id": "1dd30938",
   "metadata": {},
   "outputs": [
    {
     "name": "stdout",
     "output_type": "stream",
     "text": [
      "helloworld\n"
     ]
    }
   ],
   "source": [
    "print(s)"
   ]
  },
  {
   "cell_type": "code",
   "execution_count": 30,
   "id": "f7744fe7",
   "metadata": {},
   "outputs": [
    {
     "data": {
      "text/plain": [
       "3"
      ]
     },
     "execution_count": 30,
     "metadata": {},
     "output_type": "execute_result"
    }
   ],
   "source": [
    "10//3"
   ]
  },
  {
   "cell_type": "code",
   "execution_count": 31,
   "id": "d20c57e3",
   "metadata": {},
   "outputs": [
    {
     "data": {
      "text/plain": [
       "3.3333333333333335"
      ]
     },
     "execution_count": 31,
     "metadata": {},
     "output_type": "execute_result"
    }
   ],
   "source": [
    "10/3"
   ]
  },
  {
   "cell_type": "code",
   "execution_count": 32,
   "id": "f8de2d62",
   "metadata": {},
   "outputs": [
    {
     "data": {
      "text/plain": [
       "3.3333333333333335"
      ]
     },
     "execution_count": 32,
     "metadata": {},
     "output_type": "execute_result"
    }
   ],
   "source": [
    "_"
   ]
  },
  {
   "cell_type": "code",
   "execution_count": 33,
   "id": "06df7aeb",
   "metadata": {},
   "outputs": [
    {
     "ename": "SyntaxError",
     "evalue": "invalid syntax (<ipython-input-33-6883efdc6123>, line 1)",
     "output_type": "error",
     "traceback": [
      "\u001b[1;36m  File \u001b[1;32m\"<ipython-input-33-6883efdc6123>\"\u001b[1;36m, line \u001b[1;32m1\u001b[0m\n\u001b[1;33m    3x=4\u001b[0m\n\u001b[1;37m     ^\u001b[0m\n\u001b[1;31mSyntaxError\u001b[0m\u001b[1;31m:\u001b[0m invalid syntax\n"
     ]
    }
   ],
   "source": [
    "3x=4"
   ]
  },
  {
   "cell_type": "markdown",
   "id": "4f81ce99",
   "metadata": {},
   "source": [
    "@ # * in start for aloting variable"
   ]
  },
  {
   "cell_type": "markdown",
   "id": "82924841",
   "metadata": {},
   "source": [
    "are not allowed"
   ]
  },
  {
   "cell_type": "code",
   "execution_count": 34,
   "id": "48bbece6",
   "metadata": {},
   "outputs": [],
   "source": [
    "startingOfTheCourse =2.0"
   ]
  },
  {
   "cell_type": "code",
   "execution_count": 35,
   "id": "4dc4b063",
   "metadata": {},
   "outputs": [
    {
     "name": "stdout",
     "output_type": "stream",
     "text": [
      "Variable              Type       Data/Info\n",
      "------------------------------------------\n",
      "a                     int        3\n",
      "b                     int        5\n",
      "c                     complex    (2+4j)\n",
      "d                     int        0\n",
      "e                     float      7.5\n",
      "f                     int        -3\n",
      "s                     str        helloworld\n",
      "s1                    str        hello\n",
      "s2                    str        world\n",
      "startingOfTheCourse   float      2.0\n",
      "sumofAandb            int        8\n",
      "v                     float      42542.71875\n",
      "x                     float      5.7\n"
     ]
    }
   ],
   "source": [
    "%whos"
   ]
  },
  {
   "cell_type": "code",
   "execution_count": 37,
   "id": "7e3e5a7b",
   "metadata": {},
   "outputs": [],
   "source": [
    "a= True\n",
    "b= True\n",
    "c= False"
   ]
  },
  {
   "cell_type": "code",
   "execution_count": 38,
   "id": "f944081b",
   "metadata": {},
   "outputs": [
    {
     "name": "stdout",
     "output_type": "stream",
     "text": [
      "Variable              Type     Data/Info\n",
      "----------------------------------------\n",
      "a                     bool     True\n",
      "b                     bool     True\n",
      "c                     bool     False\n",
      "d                     int      0\n",
      "e                     float    7.5\n",
      "f                     int      -3\n",
      "s                     str      helloworld\n",
      "s1                    str      hello\n",
      "s2                    str      world\n",
      "startingOfTheCourse   float    2.0\n",
      "sumofAandb            int      8\n",
      "v                     float    42542.71875\n",
      "x                     float    5.7\n"
     ]
    }
   ],
   "source": [
    "%whos"
   ]
  },
  {
   "cell_type": "code",
   "execution_count": 39,
   "id": "aa0bef32",
   "metadata": {},
   "outputs": [
    {
     "name": "stdout",
     "output_type": "stream",
     "text": [
      "True\n",
      "False\n",
      "False\n"
     ]
    }
   ],
   "source": [
    "print(a and b)\n",
    "print(a and c)\n",
    "print(b and c)"
   ]
  },
  {
   "cell_type": "code",
   "execution_count": 40,
   "id": "3be50c14",
   "metadata": {},
   "outputs": [
    {
     "name": "stdout",
     "output_type": "stream",
     "text": [
      "True\n"
     ]
    }
   ],
   "source": [
    "d =a or b\n",
    "print(d)"
   ]
  },
  {
   "cell_type": "code",
   "execution_count": 41,
   "id": "2fed3680",
   "metadata": {},
   "outputs": [
    {
     "name": "stdout",
     "output_type": "stream",
     "text": [
      "True\n",
      "True\n",
      "False\n"
     ]
    }
   ],
   "source": [
    "print(a or b)\n",
    "print(a or c)\n",
    "print(b and c)"
   ]
  },
  {
   "cell_type": "code",
   "execution_count": 42,
   "id": "b7f9d15a",
   "metadata": {},
   "outputs": [
    {
     "data": {
      "text/plain": [
       "False"
      ]
     },
     "execution_count": 42,
     "metadata": {},
     "output_type": "execute_result"
    }
   ],
   "source": [
    "not(a)"
   ]
  },
  {
   "cell_type": "code",
   "execution_count": 43,
   "id": "40abcadf",
   "metadata": {},
   "outputs": [
    {
     "data": {
      "text/plain": [
       "False"
      ]
     },
     "execution_count": 43,
     "metadata": {},
     "output_type": "execute_result"
    }
   ],
   "source": [
    "not(b)"
   ]
  },
  {
   "cell_type": "code",
   "execution_count": 46,
   "id": "37863ea9",
   "metadata": {},
   "outputs": [],
   "source": [
    "t = not(c)"
   ]
  },
  {
   "cell_type": "code",
   "execution_count": 47,
   "id": "a0d762c3",
   "metadata": {},
   "outputs": [
    {
     "name": "stdout",
     "output_type": "stream",
     "text": [
      "<class 'bool'>\n"
     ]
    }
   ],
   "source": [
    "print(type(t))"
   ]
  },
  {
   "cell_type": "code",
   "execution_count": 48,
   "id": "5088dade",
   "metadata": {},
   "outputs": [
    {
     "data": {
      "text/plain": [
       "True"
      ]
     },
     "execution_count": 48,
     "metadata": {},
     "output_type": "execute_result"
    }
   ],
   "source": [
    "(a and b) or (c or d)"
   ]
  },
  {
   "cell_type": "code",
   "execution_count": 49,
   "id": "e9be4e94",
   "metadata": {},
   "outputs": [
    {
     "data": {
      "text/plain": [
       "True"
      ]
     },
     "execution_count": 49,
     "metadata": {},
     "output_type": "execute_result"
    }
   ],
   "source": [
    "a==d"
   ]
  },
  {
   "cell_type": "code",
   "execution_count": 50,
   "id": "87f15fd2",
   "metadata": {},
   "outputs": [
    {
     "data": {
      "text/plain": [
       "True"
      ]
     },
     "execution_count": 50,
     "metadata": {},
     "output_type": "execute_result"
    }
   ],
   "source": [
    "a!=c"
   ]
  },
  {
   "cell_type": "code",
   "execution_count": 51,
   "id": "c8dcf99b",
   "metadata": {},
   "outputs": [
    {
     "data": {
      "text/plain": [
       "False"
      ]
     },
     "execution_count": 51,
     "metadata": {},
     "output_type": "execute_result"
    }
   ],
   "source": [
    "a!=d"
   ]
  },
  {
   "cell_type": "markdown",
   "id": "0a950ca0",
   "metadata": {},
   "source": [
    "# Comparisons"
   ]
  },
  {
   "cell_type": "code",
   "execution_count": 52,
   "id": "b7d69ef7",
   "metadata": {},
   "outputs": [
    {
     "name": "stdout",
     "output_type": "stream",
     "text": [
      "True\n"
     ]
    }
   ],
   "source": [
    "print(2<3)"
   ]
  },
  {
   "cell_type": "code",
   "execution_count": 53,
   "id": "0cfd6e52",
   "metadata": {},
   "outputs": [
    {
     "name": "stdout",
     "output_type": "stream",
     "text": [
      "<class 'bool'>\n",
      "True\n"
     ]
    }
   ],
   "source": [
    "c=2<3\n",
    "print(type(c))\n",
    "print(c)"
   ]
  },
  {
   "cell_type": "code",
   "execution_count": 54,
   "id": "5c6dee21",
   "metadata": {},
   "outputs": [],
   "source": [
    "d= 3==4"
   ]
  },
  {
   "cell_type": "code",
   "execution_count": 55,
   "id": "288e2815",
   "metadata": {},
   "outputs": [
    {
     "name": "stdout",
     "output_type": "stream",
     "text": [
      "False\n"
     ]
    }
   ],
   "source": [
    "print(d)"
   ]
  },
  {
   "cell_type": "code",
   "execution_count": 56,
   "id": "47bcdf94",
   "metadata": {},
   "outputs": [
    {
     "data": {
      "text/plain": [
       "True"
      ]
     },
     "execution_count": 56,
     "metadata": {},
     "output_type": "execute_result"
    }
   ],
   "source": [
    "3==3.00"
   ]
  },
  {
   "cell_type": "code",
   "execution_count": 57,
   "id": "739c6ae5",
   "metadata": {},
   "outputs": [],
   "source": [
    "x=4\n",
    "y=9\n",
    "z=8.5\n",
    "r=-3"
   ]
  },
  {
   "cell_type": "code",
   "execution_count": 58,
   "id": "9e0ee484",
   "metadata": {},
   "outputs": [
    {
     "data": {
      "text/plain": [
       "True"
      ]
     },
     "execution_count": 58,
     "metadata": {},
     "output_type": "execute_result"
    }
   ],
   "source": [
    "(x<y) and (z<y) or (r==x)"
   ]
  },
  {
   "cell_type": "code",
   "execution_count": 59,
   "id": "408140fd",
   "metadata": {},
   "outputs": [
    {
     "data": {
      "text/plain": [
       "True"
      ]
     },
     "execution_count": 59,
     "metadata": {},
     "output_type": "execute_result"
    }
   ],
   "source": [
    "(x<y) and (r==x) or (z<y)"
   ]
  },
  {
   "cell_type": "code",
   "execution_count": 60,
   "id": "fe4dd351",
   "metadata": {},
   "outputs": [
    {
     "data": {
      "text/plain": [
       "True"
      ]
     },
     "execution_count": 60,
     "metadata": {},
     "output_type": "execute_result"
    }
   ],
   "source": [
    "True or False and False"
   ]
  },
  {
   "cell_type": "markdown",
   "id": "ecf4f8ce",
   "metadata": {},
   "source": [
    "and will apply first when () is absent"
   ]
  },
  {
   "cell_type": "code",
   "execution_count": 62,
   "id": "7cd2853f",
   "metadata": {},
   "outputs": [
    {
     "name": "stdout",
     "output_type": "stream",
     "text": [
      "False\n"
     ]
    }
   ],
   "source": [
    "print((not(2!=3) and True) or (False and True))"
   ]
  },
  {
   "cell_type": "markdown",
   "id": "9cd04e9e",
   "metadata": {},
   "source": [
    "# some important functions\n",
    "\n",
    "Print(round())   for rounding up \n",
    "\n",
    "divmod(34,9)  divide 34 wit 9 and result is with be divider and qoustion\n",
    "\n",
    "isinstance (No,()) for asking no type int float complex etc\n",
    "\n",
    "pow(x,y,z) x to power y then divide by z than remainider will be the answer\n",
    "\n",
    "input()"
   ]
  },
  {
   "cell_type": "code",
   "execution_count": 63,
   "id": "74b20109",
   "metadata": {},
   "outputs": [
    {
     "name": "stdout",
     "output_type": "stream",
     "text": [
      "5\n"
     ]
    }
   ],
   "source": [
    "print(round(4.554))"
   ]
  },
  {
   "cell_type": "code",
   "execution_count": 64,
   "id": "f29055c9",
   "metadata": {},
   "outputs": [
    {
     "name": "stdout",
     "output_type": "stream",
     "text": [
      "4\n"
     ]
    }
   ],
   "source": [
    "print(round(4.335))"
   ]
  },
  {
   "cell_type": "code",
   "execution_count": 1,
   "id": "9d782559",
   "metadata": {},
   "outputs": [
    {
     "name": "stdout",
     "output_type": "stream",
     "text": [
      "4.56\n"
     ]
    }
   ],
   "source": [
    "print(round(4.556789,2))"
   ]
  },
  {
   "cell_type": "code",
   "execution_count": 66,
   "id": "2e12e6d0",
   "metadata": {},
   "outputs": [
    {
     "name": "stdout",
     "output_type": "stream",
     "text": [
      "4.557\n"
     ]
    }
   ],
   "source": [
    "print(round(4.556789,3))"
   ]
  },
  {
   "cell_type": "code",
   "execution_count": 67,
   "id": "b6ee75b6",
   "metadata": {},
   "outputs": [
    {
     "data": {
      "text/plain": [
       "(3, 7)"
      ]
     },
     "execution_count": 67,
     "metadata": {},
     "output_type": "execute_result"
    }
   ],
   "source": [
    "divmod(34,9)"
   ]
  },
  {
   "cell_type": "code",
   "execution_count": 2,
   "id": "b357b96a",
   "metadata": {},
   "outputs": [
    {
     "data": {
      "text/plain": [
       "(3, 7)"
      ]
     },
     "execution_count": 2,
     "metadata": {},
     "output_type": "execute_result"
    }
   ],
   "source": [
    "g =divmod(34,9)\n",
    "type(g)\n",
    "g\n"
   ]
  },
  {
   "cell_type": "code",
   "execution_count": 69,
   "id": "6ba9a568",
   "metadata": {},
   "outputs": [
    {
     "data": {
      "text/plain": [
       "3"
      ]
     },
     "execution_count": 69,
     "metadata": {},
     "output_type": "execute_result"
    }
   ],
   "source": [
    "g[0]"
   ]
  },
  {
   "cell_type": "code",
   "execution_count": 70,
   "id": "f21a3d16",
   "metadata": {},
   "outputs": [
    {
     "data": {
      "text/plain": [
       "7"
      ]
     },
     "execution_count": 70,
     "metadata": {},
     "output_type": "execute_result"
    }
   ],
   "source": [
    "g[1]"
   ]
  },
  {
   "cell_type": "code",
   "execution_count": 71,
   "id": "48f50829",
   "metadata": {},
   "outputs": [
    {
     "name": "stdout",
     "output_type": "stream",
     "text": [
      "Variable              Type     Data/Info\n",
      "----------------------------------------\n",
      "a                     bool     True\n",
      "b                     bool     True\n",
      "c                     bool     True\n",
      "d                     bool     False\n",
      "e                     float    7.5\n",
      "f                     int      -3\n",
      "g                     tuple    n=2\n",
      "r                     int      -3\n",
      "s                     str      helloworld\n",
      "s1                    str      hello\n",
      "s2                    str      world\n",
      "startingOfTheCourse   float    2.0\n",
      "sumofAandb            int      8\n",
      "t                     bool     True\n",
      "v                     float    42542.71875\n",
      "x                     int      4\n",
      "y                     int      9\n",
      "z                     float    8.5\n"
     ]
    }
   ],
   "source": [
    "%whos"
   ]
  },
  {
   "cell_type": "code",
   "execution_count": 72,
   "id": "86a77286",
   "metadata": {},
   "outputs": [],
   "source": [
    "del r,s"
   ]
  },
  {
   "cell_type": "code",
   "execution_count": 73,
   "id": "10ec7e78",
   "metadata": {},
   "outputs": [
    {
     "name": "stdout",
     "output_type": "stream",
     "text": [
      "Variable              Type     Data/Info\n",
      "----------------------------------------\n",
      "a                     bool     True\n",
      "b                     bool     True\n",
      "c                     bool     True\n",
      "d                     bool     False\n",
      "e                     float    7.5\n",
      "f                     int      -3\n",
      "g                     tuple    n=2\n",
      "s1                    str      hello\n",
      "s2                    str      world\n",
      "startingOfTheCourse   float    2.0\n",
      "sumofAandb            int      8\n",
      "t                     bool     True\n",
      "v                     float    42542.71875\n",
      "x                     int      4\n",
      "y                     int      9\n",
      "z                     float    8.5\n"
     ]
    }
   ],
   "source": [
    "%whos"
   ]
  },
  {
   "cell_type": "code",
   "execution_count": 74,
   "id": "f6ffab22",
   "metadata": {},
   "outputs": [
    {
     "data": {
      "text/plain": [
       "True"
      ]
     },
     "execution_count": 74,
     "metadata": {},
     "output_type": "execute_result"
    }
   ],
   "source": [
    "isinstance(3,(int))"
   ]
  },
  {
   "cell_type": "code",
   "execution_count": 3,
   "id": "6a3cef67",
   "metadata": {},
   "outputs": [
    {
     "data": {
      "text/plain": [
       "True"
      ]
     },
     "execution_count": 3,
     "metadata": {},
     "output_type": "execute_result"
    }
   ],
   "source": [
    "isinstance(3.4,(float))"
   ]
  },
  {
   "cell_type": "code",
   "execution_count": 11,
   "id": "f3004df7",
   "metadata": {},
   "outputs": [
    {
     "data": {
      "text/plain": [
       "False"
      ]
     },
     "execution_count": 11,
     "metadata": {},
     "output_type": "execute_result"
    }
   ],
   "source": [
    "isinstance(2+3j,(int,float,str))\n",
    "isinstance(22e-2,(complex))"
   ]
  },
  {
   "cell_type": "code",
   "execution_count": 15,
   "id": "bd8ef3fd",
   "metadata": {},
   "outputs": [
    {
     "data": {
      "text/plain": [
       "True"
      ]
     },
     "execution_count": 15,
     "metadata": {},
     "output_type": "execute_result"
    }
   ],
   "source": [
    "isinstance(2+3j,(complex))"
   ]
  },
  {
   "cell_type": "code",
   "execution_count": 80,
   "id": "78e76672",
   "metadata": {},
   "outputs": [
    {
     "data": {
      "text/plain": [
       "32"
      ]
     },
     "execution_count": 80,
     "metadata": {},
     "output_type": "execute_result"
    }
   ],
   "source": [
    "pow(2,5)"
   ]
  },
  {
   "cell_type": "code",
   "execution_count": 81,
   "id": "95cefdd1",
   "metadata": {},
   "outputs": [
    {
     "data": {
      "text/plain": [
       "32"
      ]
     },
     "execution_count": 81,
     "metadata": {},
     "output_type": "execute_result"
    }
   ],
   "source": [
    "2**5"
   ]
  },
  {
   "cell_type": "code",
   "execution_count": 82,
   "id": "b5b1b841",
   "metadata": {},
   "outputs": [
    {
     "data": {
      "text/plain": [
       "2"
      ]
     },
     "execution_count": 82,
     "metadata": {},
     "output_type": "execute_result"
    }
   ],
   "source": [
    "pow(2,4,7)"
   ]
  },
  {
   "cell_type": "code",
   "execution_count": 83,
   "id": "f10a7ab1",
   "metadata": {},
   "outputs": [
    {
     "name": "stdout",
     "output_type": "stream",
     "text": [
      "Enter a Number29\n"
     ]
    }
   ],
   "source": [
    "x =input(\"Enter a Number\")"
   ]
  },
  {
   "cell_type": "code",
   "execution_count": 84,
   "id": "46d5658d",
   "metadata": {},
   "outputs": [
    {
     "data": {
      "text/plain": [
       "str"
      ]
     },
     "execution_count": 84,
     "metadata": {},
     "output_type": "execute_result"
    }
   ],
   "source": [
    "type(x)"
   ]
  },
  {
   "cell_type": "code",
   "execution_count": 86,
   "id": "1dc76a95",
   "metadata": {},
   "outputs": [
    {
     "name": "stdout",
     "output_type": "stream",
     "text": [
      "<class 'int'>\n"
     ]
    }
   ],
   "source": [
    "x=int(x)\n",
    "print(type (x))"
   ]
  },
  {
   "cell_type": "code",
   "execution_count": 87,
   "id": "8fcf2b3e",
   "metadata": {},
   "outputs": [
    {
     "name": "stdout",
     "output_type": "stream",
     "text": [
      "18\n"
     ]
    }
   ],
   "source": [
    "print(x-11)"
   ]
  },
  {
   "cell_type": "code",
   "execution_count": 88,
   "id": "18768fc9",
   "metadata": {},
   "outputs": [
    {
     "name": "stdout",
     "output_type": "stream",
     "text": [
      "enter a number12.4\n"
     ]
    }
   ],
   "source": [
    "a = float(input(\"enter a number\"))"
   ]
  },
  {
   "cell_type": "code",
   "execution_count": 89,
   "id": "e6ec3306",
   "metadata": {},
   "outputs": [
    {
     "data": {
      "text/plain": [
       "float"
      ]
     },
     "execution_count": 89,
     "metadata": {},
     "output_type": "execute_result"
    }
   ],
   "source": [
    "type(a)"
   ]
  },
  {
   "cell_type": "code",
   "execution_count": 90,
   "id": "c28ee03d",
   "metadata": {},
   "outputs": [
    {
     "name": "stdout",
     "output_type": "stream",
     "text": [
      "enter a real Numberqwe\n"
     ]
    },
    {
     "ename": "ValueError",
     "evalue": "could not convert string to float: 'qwe'",
     "output_type": "error",
     "traceback": [
      "\u001b[1;31m---------------------------------------------------------------------------\u001b[0m",
      "\u001b[1;31mValueError\u001b[0m                                Traceback (most recent call last)",
      "\u001b[1;32m<ipython-input-90-d51c54798178>\u001b[0m in \u001b[0;36m<module>\u001b[1;34m\u001b[0m\n\u001b[1;32m----> 1\u001b[1;33m \u001b[0mb\u001b[0m \u001b[1;33m=\u001b[0m \u001b[0mfloat\u001b[0m\u001b[1;33m(\u001b[0m\u001b[0minput\u001b[0m\u001b[1;33m(\u001b[0m\u001b[1;34m\"enter a real Number\"\u001b[0m\u001b[1;33m)\u001b[0m\u001b[1;33m)\u001b[0m\u001b[1;33m\u001b[0m\u001b[1;33m\u001b[0m\u001b[0m\n\u001b[0m",
      "\u001b[1;31mValueError\u001b[0m: could not convert string to float: 'qwe'"
     ]
    }
   ],
   "source": [
    "b = float(input(\"enter a real Number\"))"
   ]
  },
  {
   "cell_type": "code",
   "execution_count": 1,
   "id": "44960448",
   "metadata": {},
   "outputs": [],
   "source": [
    "pow?"
   ]
  },
  {
   "cell_type": "code",
   "execution_count": 92,
   "id": "3a1ec6ca",
   "metadata": {},
   "outputs": [
    {
     "name": "stdout",
     "output_type": "stream",
     "text": [
      "Help on built-in function pow in module builtins:\n",
      "\n",
      "pow(base, exp, mod=None)\n",
      "    Equivalent to base**exp with 2 arguments or base**exp % mod with 3 arguments\n",
      "    \n",
      "    Some types, such as ints, are able to use a more efficient algorithm when\n",
      "    invoked using the three argument form.\n",
      "\n"
     ]
    }
   ],
   "source": [
    "help(pow)"
   ]
  },
  {
   "cell_type": "markdown",
   "id": "50072c56",
   "metadata": {},
   "source": [
    "# Control Flow"
   ]
  },
  {
   "cell_type": "code",
   "execution_count": 93,
   "id": "09098efb",
   "metadata": {},
   "outputs": [
    {
     "name": "stdout",
     "output_type": "stream",
     "text": [
      "()12\n",
      "()10\n",
      "12\n",
      " I am inside if condition\n",
      "I am outside the if condition\n"
     ]
    }
   ],
   "source": [
    "a = input(())\n",
    "b = input(())\n",
    "if a>b:\n",
    "    print(a)\n",
    "    print(\" I am inside if condition\")\n",
    "print(\"I am outside the if condition\")    "
   ]
  },
  {
   "cell_type": "code",
   "execution_count": 94,
   "id": "7a41a239",
   "metadata": {},
   "outputs": [
    {
     "name": "stdout",
     "output_type": "stream",
     "text": [
      "()10\n",
      "()45\n",
      "I am outside the if condition\n"
     ]
    }
   ],
   "source": [
    "a = input(())\n",
    "b = input(())\n",
    "if a>b:\n",
    "    print(a)\n",
    "    print(\" I am inside if condition\")\n",
    "print(\"I am outside the if condition\") "
   ]
  },
  {
   "cell_type": "code",
   "execution_count": 95,
   "id": "7583304b",
   "metadata": {},
   "outputs": [
    {
     "name": "stdout",
     "output_type": "stream",
     "text": [
      "10\n",
      "45\n",
      "45\n"
     ]
    }
   ],
   "source": [
    "a= int(input())\n",
    "b = int(input())\n",
    "if a>b:\n",
    "    print(a)\n",
    "if b>a:\n",
    "    print(b)"
   ]
  },
  {
   "cell_type": "code",
   "execution_count": 96,
   "id": "4ec7c2a6",
   "metadata": {},
   "outputs": [
    {
     "name": "stdout",
     "output_type": "stream",
     "text": [
      "10\n",
      "12\n",
      "12\n"
     ]
    }
   ],
   "source": [
    "a= int(input())\n",
    "b= int(input())\n",
    "if a>b:\n",
    "    print(a)\n",
    "else:\n",
    "    print(b)"
   ]
  },
  {
   "cell_type": "code",
   "execution_count": 98,
   "id": "7cc5d455",
   "metadata": {},
   "outputs": [
    {
     "name": "stdout",
     "output_type": "stream",
     "text": [
      "10\n",
      "10\n",
      "10\n",
      "else part\n"
     ]
    }
   ],
   "source": [
    "a= int(input())\n",
    "b= int(input())\n",
    "if a>b:\n",
    "    print(a)\n",
    "    print(\"if part\")\n",
    "else:\n",
    "    print(b)\n",
    "    print(\"else part\")"
   ]
  },
  {
   "cell_type": "code",
   "execution_count": 99,
   "id": "0f6cf9ce",
   "metadata": {},
   "outputs": [
    {
     "name": "stdout",
     "output_type": "stream",
     "text": [
      "B\n",
      "Not in if part\n"
     ]
    }
   ],
   "source": [
    "a=2\n",
    "b=5\n",
    "if a==b:\n",
    "    print(\"equal\")\n",
    "elif a>b:\n",
    "    print(\"A\")\n",
    "else:\n",
    "    print(\"B\")\n",
    "    print(\"Not in if part\")\n"
   ]
  },
  {
   "cell_type": "code",
   "execution_count": 100,
   "id": "3be92cda",
   "metadata": {},
   "outputs": [
    {
     "name": "stdout",
     "output_type": "stream",
     "text": [
      "B\n"
     ]
    }
   ],
   "source": [
    "a=9\n",
    "b=10\n",
    "print(\"A\") if a>b else print(\"=\") if a==b else print(\"B\")"
   ]
  },
  {
   "cell_type": "code",
   "execution_count": 102,
   "id": "8ae1f045",
   "metadata": {},
   "outputs": [
    {
     "name": "stdout",
     "output_type": "stream",
     "text": [
      "enter marks79\n",
      "B GRADE\n"
     ]
    }
   ],
   "source": [
    "a = int(input(\"enter marks\"))\n",
    "if a >= 85:\n",
    "    print(\"A GRADE\")\n",
    "\n",
    "elif a < 85 and (a >= 80):\n",
    "        print(\"A- GRADE\")\n",
    "        \n",
    "elif a<80 and a >=75:\n",
    "    print(\"B GRADE\")\n",
    "\n",
    "elif a<75 and a>= 70:\n",
    "    print(\"B- GRADE\")\n",
    "else:\n",
    "    print(\"below aveage\")\n",
    "        "
   ]
  },
  {
   "cell_type": "code",
   "execution_count": 103,
   "id": "b07798f3",
   "metadata": {},
   "outputs": [
    {
     "name": "stdout",
     "output_type": "stream",
     "text": [
      "ELSE part\n"
     ]
    }
   ],
   "source": [
    "a =3\n",
    "if a>10:\n",
    "    print(\">10\")\n",
    "elif not(a>10):\n",
    "    print(\"ELSE part\")"
   ]
  },
  {
   "cell_type": "markdown",
   "id": "51e2f63b",
   "metadata": {},
   "source": [
    "when not whant to use else up code"
   ]
  },
  {
   "cell_type": "markdown",
   "id": "97374471",
   "metadata": {},
   "source": [
    "Nested if downword code    means if in if statment"
   ]
  },
  {
   "cell_type": "code",
   "execution_count": 109,
   "id": "2b869b03",
   "metadata": {},
   "outputs": [
    {
     "name": "stdout",
     "output_type": "stream",
     "text": [
      "18\n",
      ">10\n",
      "Inside the top of it\n",
      "<=20\n",
      "Inside the else part of nested if\n"
     ]
    }
   ],
   "source": [
    "a = int(input())\n",
    "if a>10:\n",
    "    print(\">10\")\n",
    "    print(\"Inside the top of it\")\n",
    "    if a>20:\n",
    "        print(\">20\")\n",
    "        print(\"Inside the nested if\")\n",
    "        if a>30:\n",
    "            print(\">30\")\n",
    "            print(\"inside the nested if of nested if\")\n",
    "        else:\n",
    "            print(\"<30\")\n",
    "            print(\"inside the else part of nested if of nested if\")\n",
    "    else:\n",
    "        print(\"<=20\")\n",
    "        print(\"Inside the else part of nested if\")\n",
    "else: \n",
    "    print(\"Outside all ifs\")"
   ]
  },
  {
   "cell_type": "code",
   "execution_count": 116,
   "id": "0ba7540c",
   "metadata": {},
   "outputs": [
    {
     "name": "stdout",
     "output_type": "stream",
     "text": [
      "enter real number-98.9\n",
      "even\n"
     ]
    }
   ],
   "source": [
    "# single line comment\n",
    "'''\n",
    "user will enter floting point no lets say 238.915 your task is to find out integer portion before the point \n",
    "( in this case is 238 ) and then check if that integer portion is even or not\n",
    "'''\n",
    "x = float(input(\"enter real number\"))\n",
    "y = round(x)\n",
    "if x>0:    \n",
    "    if y>x:\n",
    "        intpor= y-1\n",
    "    else:\n",
    "        intpor = y\n",
    "        \n",
    "else:\n",
    "    if x<0:  # Or y<x\n",
    "        intpor=y+1\n",
    "    else:\n",
    "        intpor = y\n",
    "if intpor%2 ==0:\n",
    "    print(\"even\")\n",
    "else:\n",
    "    print(\"Odd\")"
   ]
  },
  {
   "cell_type": "code",
   "execution_count": 112,
   "id": "98135d1c",
   "metadata": {},
   "outputs": [
    {
     "name": "stdout",
     "output_type": "stream",
     "text": [
      "enter number237.915\n",
      "238\n",
      "number is odd\n"
     ]
    }
   ],
   "source": [
    "number = float(input(\"enter number\"))\n",
    "print(round(number))\n",
    "\n",
    "if number%2 == 0:\n",
    "    print(\"no is even\")\n",
    "else:\n",
    "    print(\"number is odd\")\n",
    "    \n"
   ]
  },
  {
   "cell_type": "markdown",
   "id": "a68adb38",
   "metadata": {},
   "source": [
    "# LOOPS"
   ]
  },
  {
   "cell_type": "code",
   "execution_count": 117,
   "id": "7a69b5a2",
   "metadata": {},
   "outputs": [
    {
     "name": "stdout",
     "output_type": "stream",
     "text": [
      "enter no5\n",
      "1\n",
      "2\n",
      "3\n",
      "4\n",
      "done\n"
     ]
    }
   ],
   "source": [
    "n= int(input(\"enter no\"))\n",
    "i=1\n",
    "while i<n:\n",
    "    print(i)\n",
    "    i+=1\n",
    "print(\"done\")"
   ]
  },
  {
   "cell_type": "code",
   "execution_count": 121,
   "id": "af97b8ef",
   "metadata": {},
   "outputs": [
    {
     "name": "stdout",
     "output_type": "stream",
     "text": [
      "enter number5\n",
      "this is iteration number :  1\n",
      "1\n",
      "this is iteration number :  2\n",
      "8\n",
      "this is iteration number :  3\n",
      "27\n",
      "this is iteration number :  4\n",
      "64\n",
      "loop Done\n"
     ]
    }
   ],
   "source": [
    "n= int(input(\"enter number\"))\n",
    "i=1\n",
    "while i<n:\n",
    "    print(\"this is iteration number : \", i)\n",
    "    print(i**3)\n",
    "    i+=1\n",
    "print(\"loop Done\")"
   ]
  },
  {
   "cell_type": "code",
   "execution_count": 126,
   "id": "a2251238",
   "metadata": {
    "scrolled": true
   },
   "outputs": [
    {
     "name": "stdout",
     "output_type": "stream",
     "text": [
      "enter number5\n",
      " before multiply by 5 \n",
      "5\n",
      " before multiply by 5 \n",
      "10\n",
      " before multiply by 5 \n",
      "15\n",
      " before multiply by 5 \n",
      "20\n",
      "done\n"
     ]
    }
   ],
   "source": [
    "n= int(input(\"enter number\"))\n",
    "i=1\n",
    "while i<n:\n",
    "    print(\" before multiply by 5 \")\n",
    "    print(i*5)\n",
    "    i+=1\n",
    "print(\"done\")"
   ]
  },
  {
   "cell_type": "code",
   "execution_count": 3,
   "id": "f14a4a3d",
   "metadata": {},
   "outputs": [
    {
     "name": "stdout",
     "output_type": "stream",
     "text": [
      "enter number9\n",
      "2\n",
      "4\n",
      "6\n",
      "8\n"
     ]
    }
   ],
   "source": [
    "n= int(input(\"enter number\"))\n",
    "i=1\n",
    "while i<n:\n",
    "    if i%2==0:\n",
    "        print(i)\n",
    "    else: \n",
    "        print(\"no is odd:\",i )\n",
    "    i+=1"
   ]
  },
  {
   "cell_type": "code",
   "execution_count": 7,
   "id": "b4e09b41",
   "metadata": {},
   "outputs": [
    {
     "name": "stdout",
     "output_type": "stream",
     "text": [
      "in else \n",
      "in else \n",
      "in else \n",
      "in else \n",
      "inside the if\n",
      "done\n"
     ]
    }
   ],
   "source": [
    "n=10\n",
    "i=1\n",
    "while True:\n",
    "    if i%5==0:\n",
    "        print(\"inside the if\")\n",
    "        break\n",
    "    else:\n",
    "        i+=1\n",
    "        print(\"in else \")\n",
    "        continue\n",
    "print(\"done\")"
   ]
  },
  {
   "cell_type": "code",
   "execution_count": 20,
   "id": "601c7cf4",
   "metadata": {},
   "outputs": [
    {
     "name": "stdout",
     "output_type": "stream",
     "text": [
      "inside the if:  1\n",
      "inside the if:  2\n",
      "inside the if:  3\n",
      "inside the if:  4\n",
      "inside the if:  5\n",
      "inside the if:  6\n",
      "inside the if:  7\n",
      "inside the if:  8\n",
      "inside the if:  9\n",
      "somet\n",
      "somet\n",
      "done\n"
     ]
    }
   ],
   "source": [
    "n=14\n",
    "i=1\n",
    "while True:\n",
    "    if i%10 !=0:\n",
    "        print(\"inside the if: \",i)\n",
    "        i+=1\n",
    "        continue\n",
    "    print(\"somet\")\n",
    "    print(\"somet\")\n",
    "    break\n",
    "print(\"done\")    \n",
    "\n",
    "    "
   ]
  },
  {
   "cell_type": "code",
   "execution_count": null,
   "id": "0c1fdf75",
   "metadata": {},
   "outputs": [],
   "source": []
  }
 ],
 "metadata": {
  "kernelspec": {
   "display_name": "Python 3",
   "language": "python",
   "name": "python3"
  },
  "language_info": {
   "codemirror_mode": {
    "name": "ipython",
    "version": 3
   },
   "file_extension": ".py",
   "mimetype": "text/x-python",
   "name": "python",
   "nbconvert_exporter": "python",
   "pygments_lexer": "ipython3",
   "version": "3.8.8"
  }
 },
 "nbformat": 4,
 "nbformat_minor": 5
}
